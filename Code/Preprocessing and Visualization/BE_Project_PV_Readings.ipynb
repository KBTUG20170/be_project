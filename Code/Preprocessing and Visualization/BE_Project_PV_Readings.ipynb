{
 "cells": [
  {
   "cell_type": "code",
   "execution_count": 3,
   "id": "9ae373b7-d33d-4931-809a-975c74157337",
   "metadata": {
    "id": "9ae373b7-d33d-4931-809a-975c74157337"
   },
   "outputs": [],
   "source": [
    "import pandas as pd\n",
    "import numpy as np\n",
    "import tensorflow as tf"
   ]
  },
  {
   "cell_type": "code",
   "execution_count": 4,
   "id": "2baf4317-fff5-4591-b37a-17be1c0233db",
   "metadata": {
    "id": "2baf4317-fff5-4591-b37a-17be1c0233db"
   },
   "outputs": [],
   "source": [
    "df = pd.read_csv('pv_readings.csv')"
   ]
  },
  {
   "cell_type": "markdown",
   "id": "g-kqvWoLJmWg",
   "metadata": {
    "id": "g-kqvWoLJmWg"
   },
   "source": [
    "# Exploration and Cleaning"
   ]
  },
  {
   "cell_type": "code",
   "execution_count": 6,
   "id": "ab714dc9-b928-414a-a25d-ef42b5a5671c",
   "metadata": {
    "colab": {
     "base_uri": "https://localhost:8080/",
     "height": 394
    },
    "id": "ab714dc9-b928-414a-a25d-ef42b5a5671c",
    "outputId": "691e08f7-66e0-4165-fe5f-8db37909c428"
   },
   "outputs": [
    {
     "data": {
      "text/html": [
       "<div>\n",
       "<style scoped>\n",
       "    .dataframe tbody tr th:only-of-type {\n",
       "        vertical-align: middle;\n",
       "    }\n",
       "\n",
       "    .dataframe tbody tr th {\n",
       "        vertical-align: top;\n",
       "    }\n",
       "\n",
       "    .dataframe thead th {\n",
       "        text-align: right;\n",
       "    }\n",
       "</style>\n",
       "<table border=\"1\" class=\"dataframe\">\n",
       "  <thead>\n",
       "    <tr style=\"text-align: right;\">\n",
       "      <th></th>\n",
       "      <th>Timestamp</th>\n",
       "      <th>Light_level</th>\n",
       "      <th>Voltage</th>\n",
       "      <th>Current</th>\n",
       "      <th>Temperature</th>\n",
       "      <th>Humidity</th>\n",
       "    </tr>\n",
       "  </thead>\n",
       "  <tbody>\n",
       "    <tr>\n",
       "      <th>0</th>\n",
       "      <td>1.709716e+09</td>\n",
       "      <td>21725.833333</td>\n",
       "      <td>0.000125</td>\n",
       "      <td>0.000125</td>\n",
       "      <td>45.0</td>\n",
       "      <td>0.0</td>\n",
       "    </tr>\n",
       "    <tr>\n",
       "      <th>1</th>\n",
       "      <td>1.709716e+09</td>\n",
       "      <td>32695.000000</td>\n",
       "      <td>0.000125</td>\n",
       "      <td>0.000125</td>\n",
       "      <td>45.0</td>\n",
       "      <td>0.0</td>\n",
       "    </tr>\n",
       "    <tr>\n",
       "      <th>2</th>\n",
       "      <td>1.709716e+09</td>\n",
       "      <td>24800.000000</td>\n",
       "      <td>0.000250</td>\n",
       "      <td>0.000250</td>\n",
       "      <td>46.0</td>\n",
       "      <td>0.0</td>\n",
       "    </tr>\n",
       "    <tr>\n",
       "      <th>3</th>\n",
       "      <td>1.709716e+09</td>\n",
       "      <td>6070.833333</td>\n",
       "      <td>0.000000</td>\n",
       "      <td>0.000000</td>\n",
       "      <td>45.0</td>\n",
       "      <td>0.0</td>\n",
       "    </tr>\n",
       "    <tr>\n",
       "      <th>4</th>\n",
       "      <td>1.709716e+09</td>\n",
       "      <td>54612.500000</td>\n",
       "      <td>0.000375</td>\n",
       "      <td>0.000375</td>\n",
       "      <td>45.0</td>\n",
       "      <td>0.0</td>\n",
       "    </tr>\n",
       "  </tbody>\n",
       "</table>\n",
       "</div>"
      ],
      "text/plain": [
       "      Timestamp   Light_level   Voltage   Current  Temperature  Humidity\n",
       "0  1.709716e+09  21725.833333  0.000125  0.000125         45.0       0.0\n",
       "1  1.709716e+09  32695.000000  0.000125  0.000125         45.0       0.0\n",
       "2  1.709716e+09  24800.000000  0.000250  0.000250         46.0       0.0\n",
       "3  1.709716e+09   6070.833333  0.000000  0.000000         45.0       0.0\n",
       "4  1.709716e+09  54612.500000  0.000375  0.000375         45.0       0.0"
      ]
     },
     "execution_count": 6,
     "metadata": {},
     "output_type": "execute_result"
    }
   ],
   "source": [
    "df.head()"
   ]
  },
  {
   "cell_type": "code",
   "execution_count": 7,
   "id": "b641593a",
   "metadata": {},
   "outputs": [],
   "source": [
    "df.replace({'None':np.nan}, inplace=True)"
   ]
  },
  {
   "cell_type": "code",
   "execution_count": 8,
   "id": "afa1a8dd",
   "metadata": {},
   "outputs": [
    {
     "data": {
      "text/plain": [
       "(3892, 6)"
      ]
     },
     "execution_count": 8,
     "metadata": {},
     "output_type": "execute_result"
    }
   ],
   "source": [
    "df.shape"
   ]
  },
  {
   "cell_type": "code",
   "execution_count": 9,
   "id": "ba40fffe-5d63-4349-a28d-82446d87337b",
   "metadata": {
    "colab": {
     "base_uri": "https://localhost:8080/"
    },
    "id": "ba40fffe-5d63-4349-a28d-82446d87337b",
    "outputId": "6fa78697-2620-4cf2-cdd8-25e83d054095"
   },
   "outputs": [
    {
     "data": {
      "text/plain": [
       "Timestamp         2\n",
       " Light_level      0\n",
       " Voltage          0\n",
       " Current          0\n",
       " Temperature    141\n",
       " Humidity       141\n",
       "dtype: int64"
      ]
     },
     "execution_count": 9,
     "metadata": {},
     "output_type": "execute_result"
    }
   ],
   "source": [
    "df.isna().sum()"
   ]
  },
  {
   "cell_type": "code",
   "execution_count": 10,
   "id": "2cc1e83a",
   "metadata": {},
   "outputs": [],
   "source": [
    "df.dropna(inplace=True)"
   ]
  },
  {
   "cell_type": "code",
   "execution_count": 11,
   "id": "64448cbf",
   "metadata": {},
   "outputs": [
    {
     "data": {
      "text/plain": [
       "(3749, 6)"
      ]
     },
     "execution_count": 11,
     "metadata": {},
     "output_type": "execute_result"
    }
   ],
   "source": [
    "df.shape"
   ]
  },
  {
   "cell_type": "code",
   "execution_count": 12,
   "id": "18cabc57",
   "metadata": {},
   "outputs": [
    {
     "data": {
      "text/plain": [
       "0"
      ]
     },
     "execution_count": 12,
     "metadata": {},
     "output_type": "execute_result"
    }
   ],
   "source": [
    "df.isna().sum().sum()"
   ]
  },
  {
   "cell_type": "code",
   "execution_count": 13,
   "id": "ec721aa7",
   "metadata": {},
   "outputs": [],
   "source": [
    "df.columns = df.columns.str.strip()"
   ]
  },
  {
   "cell_type": "code",
   "execution_count": 14,
   "id": "ef5ed539",
   "metadata": {},
   "outputs": [],
   "source": [
    "df['Timestamp'] = pd.to_datetime(df['Timestamp'], unit='s')\n",
    "df['Temperature'] = df['Temperature'].astype(float)\n",
    "df['Humidity'] = df['Humidity'].astype(float)"
   ]
  },
  {
   "cell_type": "code",
   "execution_count": 15,
   "id": "8d92b6ef",
   "metadata": {},
   "outputs": [
    {
     "data": {
      "text/html": [
       "<div>\n",
       "<style scoped>\n",
       "    .dataframe tbody tr th:only-of-type {\n",
       "        vertical-align: middle;\n",
       "    }\n",
       "\n",
       "    .dataframe tbody tr th {\n",
       "        vertical-align: top;\n",
       "    }\n",
       "\n",
       "    .dataframe thead th {\n",
       "        text-align: right;\n",
       "    }\n",
       "</style>\n",
       "<table border=\"1\" class=\"dataframe\">\n",
       "  <thead>\n",
       "    <tr style=\"text-align: right;\">\n",
       "      <th></th>\n",
       "      <th>Timestamp</th>\n",
       "      <th>Light_level</th>\n",
       "      <th>Voltage</th>\n",
       "      <th>Current</th>\n",
       "      <th>Temperature</th>\n",
       "      <th>Humidity</th>\n",
       "    </tr>\n",
       "  </thead>\n",
       "  <tbody>\n",
       "    <tr>\n",
       "      <th>0</th>\n",
       "      <td>2024-03-06 09:08:44.048041984</td>\n",
       "      <td>21725.833333</td>\n",
       "      <td>0.000125</td>\n",
       "      <td>0.000125</td>\n",
       "      <td>45.0</td>\n",
       "      <td>0.0</td>\n",
       "    </tr>\n",
       "    <tr>\n",
       "      <th>1</th>\n",
       "      <td>2024-03-06 09:08:54.603180800</td>\n",
       "      <td>32695.000000</td>\n",
       "      <td>0.000125</td>\n",
       "      <td>0.000125</td>\n",
       "      <td>45.0</td>\n",
       "      <td>0.0</td>\n",
       "    </tr>\n",
       "    <tr>\n",
       "      <th>2</th>\n",
       "      <td>2024-03-06 09:09:05.151827200</td>\n",
       "      <td>24800.000000</td>\n",
       "      <td>0.000250</td>\n",
       "      <td>0.000250</td>\n",
       "      <td>46.0</td>\n",
       "      <td>0.0</td>\n",
       "    </tr>\n",
       "    <tr>\n",
       "      <th>3</th>\n",
       "      <td>2024-03-06 09:09:15.706973184</td>\n",
       "      <td>6070.833333</td>\n",
       "      <td>0.000000</td>\n",
       "      <td>0.000000</td>\n",
       "      <td>45.0</td>\n",
       "      <td>0.0</td>\n",
       "    </tr>\n",
       "    <tr>\n",
       "      <th>4</th>\n",
       "      <td>2024-03-06 09:09:26.259571200</td>\n",
       "      <td>54612.500000</td>\n",
       "      <td>0.000375</td>\n",
       "      <td>0.000375</td>\n",
       "      <td>45.0</td>\n",
       "      <td>0.0</td>\n",
       "    </tr>\n",
       "  </tbody>\n",
       "</table>\n",
       "</div>"
      ],
      "text/plain": [
       "                      Timestamp   Light_level   Voltage   Current  \\\n",
       "0 2024-03-06 09:08:44.048041984  21725.833333  0.000125  0.000125   \n",
       "1 2024-03-06 09:08:54.603180800  32695.000000  0.000125  0.000125   \n",
       "2 2024-03-06 09:09:05.151827200  24800.000000  0.000250  0.000250   \n",
       "3 2024-03-06 09:09:15.706973184   6070.833333  0.000000  0.000000   \n",
       "4 2024-03-06 09:09:26.259571200  54612.500000  0.000375  0.000375   \n",
       "\n",
       "   Temperature  Humidity  \n",
       "0         45.0       0.0  \n",
       "1         45.0       0.0  \n",
       "2         46.0       0.0  \n",
       "3         45.0       0.0  \n",
       "4         45.0       0.0  "
      ]
     },
     "execution_count": 15,
     "metadata": {},
     "output_type": "execute_result"
    }
   ],
   "source": [
    "df.head()"
   ]
  },
  {
   "cell_type": "code",
   "execution_count": 16,
   "id": "NjtPrDvld4B_",
   "metadata": {
    "colab": {
     "base_uri": "https://localhost:8080/",
     "height": 401
    },
    "id": "NjtPrDvld4B_",
    "outputId": "fcbfa6d2-2594-4dad-963d-ecd8deba2470"
   },
   "outputs": [
    {
     "data": {
      "text/html": [
       "<div>\n",
       "<style scoped>\n",
       "    .dataframe tbody tr th:only-of-type {\n",
       "        vertical-align: middle;\n",
       "    }\n",
       "\n",
       "    .dataframe tbody tr th {\n",
       "        vertical-align: top;\n",
       "    }\n",
       "\n",
       "    .dataframe thead th {\n",
       "        text-align: right;\n",
       "    }\n",
       "</style>\n",
       "<table border=\"1\" class=\"dataframe\">\n",
       "  <thead>\n",
       "    <tr style=\"text-align: right;\">\n",
       "      <th></th>\n",
       "      <th>Light_level</th>\n",
       "      <th>Voltage</th>\n",
       "      <th>Current</th>\n",
       "      <th>Temperature</th>\n",
       "      <th>Humidity</th>\n",
       "    </tr>\n",
       "  </thead>\n",
       "  <tbody>\n",
       "    <tr>\n",
       "      <th>count</th>\n",
       "      <td>3749.000000</td>\n",
       "      <td>3749.000000</td>\n",
       "      <td>3749.000000</td>\n",
       "      <td>3749.000000</td>\n",
       "      <td>3749.000000</td>\n",
       "    </tr>\n",
       "    <tr>\n",
       "      <th>mean</th>\n",
       "      <td>15873.632747</td>\n",
       "      <td>1.011217</td>\n",
       "      <td>1.013588</td>\n",
       "      <td>33.196052</td>\n",
       "      <td>17.311283</td>\n",
       "    </tr>\n",
       "    <tr>\n",
       "      <th>std</th>\n",
       "      <td>21752.889921</td>\n",
       "      <td>1.524862</td>\n",
       "      <td>1.526159</td>\n",
       "      <td>12.839134</td>\n",
       "      <td>14.891655</td>\n",
       "    </tr>\n",
       "    <tr>\n",
       "      <th>min</th>\n",
       "      <td>0.000000</td>\n",
       "      <td>-0.000375</td>\n",
       "      <td>-0.617269</td>\n",
       "      <td>-1.000000</td>\n",
       "      <td>-1.000000</td>\n",
       "    </tr>\n",
       "    <tr>\n",
       "      <th>25%</th>\n",
       "      <td>0.000000</td>\n",
       "      <td>0.000000</td>\n",
       "      <td>0.000000</td>\n",
       "      <td>23.000000</td>\n",
       "      <td>0.000000</td>\n",
       "    </tr>\n",
       "    <tr>\n",
       "      <th>50%</th>\n",
       "      <td>3754.166667</td>\n",
       "      <td>0.010750</td>\n",
       "      <td>0.010750</td>\n",
       "      <td>29.000000</td>\n",
       "      <td>12.000000</td>\n",
       "    </tr>\n",
       "    <tr>\n",
       "      <th>75%</th>\n",
       "      <td>24307.500000</td>\n",
       "      <td>3.211723</td>\n",
       "      <td>3.211848</td>\n",
       "      <td>44.000000</td>\n",
       "      <td>32.000000</td>\n",
       "    </tr>\n",
       "    <tr>\n",
       "      <th>max</th>\n",
       "      <td>54612.500000</td>\n",
       "      <td>4.096000</td>\n",
       "      <td>4.096000</td>\n",
       "      <td>63.000000</td>\n",
       "      <td>38.000000</td>\n",
       "    </tr>\n",
       "  </tbody>\n",
       "</table>\n",
       "</div>"
      ],
      "text/plain": [
       "        Light_level      Voltage      Current  Temperature     Humidity\n",
       "count   3749.000000  3749.000000  3749.000000  3749.000000  3749.000000\n",
       "mean   15873.632747     1.011217     1.013588    33.196052    17.311283\n",
       "std    21752.889921     1.524862     1.526159    12.839134    14.891655\n",
       "min        0.000000    -0.000375    -0.617269    -1.000000    -1.000000\n",
       "25%        0.000000     0.000000     0.000000    23.000000     0.000000\n",
       "50%     3754.166667     0.010750     0.010750    29.000000    12.000000\n",
       "75%    24307.500000     3.211723     3.211848    44.000000    32.000000\n",
       "max    54612.500000     4.096000     4.096000    63.000000    38.000000"
      ]
     },
     "execution_count": 16,
     "metadata": {},
     "output_type": "execute_result"
    }
   ],
   "source": [
    "df.describe()"
   ]
  },
  {
   "cell_type": "markdown",
   "id": "f6900e73",
   "metadata": {},
   "source": [
    "# Readings Callibration"
   ]
  },
  {
   "cell_type": "code",
   "execution_count": 19,
   "id": "89477dfe",
   "metadata": {},
   "outputs": [],
   "source": [
    "from sklearn.linear_model import LinearRegression\n",
    "import pickle"
   ]
  },
  {
   "cell_type": "code",
   "execution_count": 20,
   "id": "ab2e653f",
   "metadata": {},
   "outputs": [],
   "source": [
    "import warnings\n",
    "warnings.filterwarnings(\"ignore\", category=UserWarning)"
   ]
  },
  {
   "cell_type": "code",
   "execution_count": 21,
   "id": "b990c0b4",
   "metadata": {},
   "outputs": [],
   "source": [
    "df2 = pd.read_csv('pv_readings_new.csv')"
   ]
  },
  {
   "cell_type": "code",
   "execution_count": 25,
   "id": "ccd1a3fa",
   "metadata": {},
   "outputs": [],
   "source": [
    "X,y = df2['Voltage'], df2['Current']\n",
    "lr_correction = LinearRegression()\n",
    "lr_correction.fit(np.array(X).reshape(-1, 1), y)\n",
    "df['Current'] = lr_correction.predict(np.array(df['Voltage']).reshape(-1, 1))\n",
    "filename = 'lr_correction.sav'\n",
    "pickle.dump(lr_correction, open(filename, 'wb'))"
   ]
  },
  {
   "cell_type": "code",
   "execution_count": 26,
   "id": "f6ea2249",
   "metadata": {},
   "outputs": [],
   "source": [
    "# Voltage sensor calibration (0 to 25 volt)\n",
    "X = np.array([0.07912741477706228, 3.126595416119877]).reshape(-1, 1)\n",
    "y = np.array([0, 25])\n",
    "lr_voltage = LinearRegression()\n",
    "lr_voltage.fit(X, y)\n",
    "df['Voltage'] = lr_voltage.predict(df[['Voltage']])\n",
    "filename = 'lr_voltage.sav'\n",
    "pickle.dump(lr_voltage, open(filename, 'wb'))\n",
    "\n",
    "# Current sensor calibration (0.06 mA = 0.8887771233252968)\n",
    "X = np.array([0.8887771233252968, 0.9406537064729759, 0.9624043702505569, 1.0315314798425246]).reshape(-1, 1)\n",
    "y = np.array([0.06, 0.32, 0.64, 0.95])\n",
    "lr_current = LinearRegression()\n",
    "lr_current.fit(X, y)\n",
    "df['Current'] = lr_current.predict(df[['Current']])\n",
    "filename = 'lr_current.sav'\n",
    "pickle.dump(lr_current, open(filename, 'wb'))"
   ]
  },
  {
   "cell_type": "markdown",
   "id": "k0GsXZanJi4l",
   "metadata": {
    "id": "k0GsXZanJi4l"
   },
   "source": [
    "# Visualization"
   ]
  },
  {
   "cell_type": "code",
   "execution_count": 27,
   "id": "Q1-sGfVZJuzu",
   "metadata": {
    "id": "Q1-sGfVZJuzu"
   },
   "outputs": [],
   "source": [
    "import seaborn as sns\n",
    "import matplotlib.pyplot as plt"
   ]
  },
  {
   "cell_type": "code",
   "execution_count": 28,
   "id": "82f74c36",
   "metadata": {},
   "outputs": [
    {
     "data": {
      "text/plain": [
       "array([7.55440734])"
      ]
     },
     "execution_count": 28,
     "metadata": {},
     "output_type": "execute_result"
    }
   ],
   "source": [
    "lr_voltage.predict(np.array(1).reshape(-1,1))"
   ]
  },
  {
   "cell_type": "code",
   "execution_count": 29,
   "id": "f411184b",
   "metadata": {},
   "outputs": [
    {
     "data": {
      "text/html": [
       "<div>\n",
       "<style scoped>\n",
       "    .dataframe tbody tr th:only-of-type {\n",
       "        vertical-align: middle;\n",
       "    }\n",
       "\n",
       "    .dataframe tbody tr th {\n",
       "        vertical-align: top;\n",
       "    }\n",
       "\n",
       "    .dataframe thead th {\n",
       "        text-align: right;\n",
       "    }\n",
       "</style>\n",
       "<table border=\"1\" class=\"dataframe\">\n",
       "  <thead>\n",
       "    <tr style=\"text-align: right;\">\n",
       "      <th></th>\n",
       "      <th>Timestamp</th>\n",
       "      <th>Light_level</th>\n",
       "      <th>Voltage</th>\n",
       "      <th>Current</th>\n",
       "      <th>Temperature</th>\n",
       "      <th>Humidity</th>\n",
       "    </tr>\n",
       "  </thead>\n",
       "  <tbody>\n",
       "    <tr>\n",
       "      <th>0</th>\n",
       "      <td>2024-03-06 09:08:44.048041984</td>\n",
       "      <td>21725.833333</td>\n",
       "      <td>-0.648099</td>\n",
       "      <td>-5.856040</td>\n",
       "      <td>45.0</td>\n",
       "      <td>0.0</td>\n",
       "    </tr>\n",
       "    <tr>\n",
       "      <th>1</th>\n",
       "      <td>2024-03-06 09:08:54.603180800</td>\n",
       "      <td>32695.000000</td>\n",
       "      <td>-0.648099</td>\n",
       "      <td>-5.856040</td>\n",
       "      <td>45.0</td>\n",
       "      <td>0.0</td>\n",
       "    </tr>\n",
       "    <tr>\n",
       "      <th>2</th>\n",
       "      <td>2024-03-06 09:09:05.151827200</td>\n",
       "      <td>24800.000000</td>\n",
       "      <td>-0.647073</td>\n",
       "      <td>-5.855645</td>\n",
       "      <td>46.0</td>\n",
       "      <td>0.0</td>\n",
       "    </tr>\n",
       "    <tr>\n",
       "      <th>3</th>\n",
       "      <td>2024-03-06 09:09:15.706973184</td>\n",
       "      <td>6070.833333</td>\n",
       "      <td>-0.649124</td>\n",
       "      <td>-5.856435</td>\n",
       "      <td>45.0</td>\n",
       "      <td>0.0</td>\n",
       "    </tr>\n",
       "    <tr>\n",
       "      <th>4</th>\n",
       "      <td>2024-03-06 09:09:26.259571200</td>\n",
       "      <td>54612.500000</td>\n",
       "      <td>-0.646048</td>\n",
       "      <td>-5.855249</td>\n",
       "      <td>45.0</td>\n",
       "      <td>0.0</td>\n",
       "    </tr>\n",
       "    <tr>\n",
       "      <th>...</th>\n",
       "      <td>...</td>\n",
       "      <td>...</td>\n",
       "      <td>...</td>\n",
       "      <td>...</td>\n",
       "      <td>...</td>\n",
       "      <td>...</td>\n",
       "    </tr>\n",
       "    <tr>\n",
       "      <th>96</th>\n",
       "      <td>2024-03-06 09:39:47.022808064</td>\n",
       "      <td>54612.500000</td>\n",
       "      <td>28.621970</td>\n",
       "      <td>5.427809</td>\n",
       "      <td>60.0</td>\n",
       "      <td>0.0</td>\n",
       "    </tr>\n",
       "    <tr>\n",
       "      <th>97</th>\n",
       "      <td>2024-03-06 09:39:57.573067776</td>\n",
       "      <td>54612.500000</td>\n",
       "      <td>28.761434</td>\n",
       "      <td>5.481573</td>\n",
       "      <td>60.0</td>\n",
       "      <td>0.0</td>\n",
       "    </tr>\n",
       "    <tr>\n",
       "      <th>98</th>\n",
       "      <td>2024-03-06 09:40:08.122560000</td>\n",
       "      <td>54612.500000</td>\n",
       "      <td>28.715288</td>\n",
       "      <td>5.463784</td>\n",
       "      <td>60.0</td>\n",
       "      <td>0.0</td>\n",
       "    </tr>\n",
       "    <tr>\n",
       "      <th>99</th>\n",
       "      <td>2024-03-06 09:40:18.672420096</td>\n",
       "      <td>54612.500000</td>\n",
       "      <td>28.700931</td>\n",
       "      <td>5.458249</td>\n",
       "      <td>60.0</td>\n",
       "      <td>0.0</td>\n",
       "    </tr>\n",
       "    <tr>\n",
       "      <th>100</th>\n",
       "      <td>2024-03-06 09:40:29.222420992</td>\n",
       "      <td>54612.500000</td>\n",
       "      <td>28.701957</td>\n",
       "      <td>5.458644</td>\n",
       "      <td>61.0</td>\n",
       "      <td>0.0</td>\n",
       "    </tr>\n",
       "  </tbody>\n",
       "</table>\n",
       "<p>100 rows × 6 columns</p>\n",
       "</div>"
      ],
      "text/plain": [
       "                        Timestamp   Light_level    Voltage   Current  \\\n",
       "0   2024-03-06 09:08:44.048041984  21725.833333  -0.648099 -5.856040   \n",
       "1   2024-03-06 09:08:54.603180800  32695.000000  -0.648099 -5.856040   \n",
       "2   2024-03-06 09:09:05.151827200  24800.000000  -0.647073 -5.855645   \n",
       "3   2024-03-06 09:09:15.706973184   6070.833333  -0.649124 -5.856435   \n",
       "4   2024-03-06 09:09:26.259571200  54612.500000  -0.646048 -5.855249   \n",
       "..                            ...           ...        ...       ...   \n",
       "96  2024-03-06 09:39:47.022808064  54612.500000  28.621970  5.427809   \n",
       "97  2024-03-06 09:39:57.573067776  54612.500000  28.761434  5.481573   \n",
       "98  2024-03-06 09:40:08.122560000  54612.500000  28.715288  5.463784   \n",
       "99  2024-03-06 09:40:18.672420096  54612.500000  28.700931  5.458249   \n",
       "100 2024-03-06 09:40:29.222420992  54612.500000  28.701957  5.458644   \n",
       "\n",
       "     Temperature  Humidity  \n",
       "0           45.0       0.0  \n",
       "1           45.0       0.0  \n",
       "2           46.0       0.0  \n",
       "3           45.0       0.0  \n",
       "4           45.0       0.0  \n",
       "..           ...       ...  \n",
       "96          60.0       0.0  \n",
       "97          60.0       0.0  \n",
       "98          60.0       0.0  \n",
       "99          60.0       0.0  \n",
       "100         61.0       0.0  \n",
       "\n",
       "[100 rows x 6 columns]"
      ]
     },
     "execution_count": 29,
     "metadata": {},
     "output_type": "execute_result"
    }
   ],
   "source": [
    "df.head(100)"
   ]
  },
  {
   "cell_type": "code",
   "execution_count": 30,
   "id": "8cf38d3b",
   "metadata": {},
   "outputs": [],
   "source": [
    "df['PV Power'] = df['Voltage'] * df['Current'] * .001 # Amperes"
   ]
  },
  {
   "cell_type": "code",
   "execution_count": 31,
   "id": "-Rcz_ahSLcpF",
   "metadata": {
    "colab": {
     "base_uri": "https://localhost:8080/",
     "height": 1000
    },
    "id": "-Rcz_ahSLcpF",
    "outputId": "eac79d59-a2c5-4ac7-900d-7b1d21619564",
    "scrolled": true
   },
   "outputs": [
    {
     "data": {
      "image/png": "[encoded data removed]",
      "text/plain": [
       "<Figure size 500x500 with 6 Axes>"
      ]
     },
     "metadata": {},
     "output_type": "display_data"
    }
   ],
   "source": [
    "fig, axes = plt.subplots(nrows=3, ncols=2, figsize=(5, 5))\n",
    "\n",
    "colors = ['orange', 'red', 'blue', 'green', 'violet', 'purple']\n",
    "labels = ['Illumination (Lux)','Voltage (V)','Current (mA)','Temperature (°C)','Humidity (%)','PV Power generated (W)']\n",
    "k=0\n",
    "for i in range(0,3):\n",
    "    for j in range(0,2):\n",
    "        sns.lineplot(x=df.index, y=df[df.columns[k+1]], color=colors[k], ax=axes[i][j])\n",
    "        axes[i][j].set_xlabel('Time')\n",
    "        axes[i][j].set_ylabel(labels[k])\n",
    "        k+=1\n",
    "fig.subplots_adjust(wspace=.5)\n",
    "plt.tight_layout();"
   ]
  },
  {
   "cell_type": "markdown",
   "id": "53b32d33-a831-4b05-bf81-f8c43019f0a5",
   "metadata": {
    "id": "rOADqwiOYXnI"
   },
   "source": [
    "# Training"
   ]
  },
  {
   "cell_type": "code",
   "execution_count": 45,
   "id": "e6316632-119f-4f0e-b70c-989b9bdc0291",
   "metadata": {
    "id": "e6316632-119f-4f0e-b70c-989b9bdc0291"
   },
   "outputs": [],
   "source": [
    "from tensorflow.keras.models import Sequential\n",
    "from tensorflow.keras.layers import Dense, Dropout\n",
    "from tensorflow.keras.optimizers import Adam\n",
    "from keras.callbacks import ModelCheckpoint\n",
    "from keras.models import load_model"
   ]
  },
  {
   "cell_type": "code",
   "execution_count": 46,
   "id": "3deb37c6-9a5d-49ec-b95d-2c33427049dd",
   "metadata": {},
   "outputs": [],
   "source": [
    "checkpoint = tf.keras.callbacks.ModelCheckpoint('best_pv_readings_2.tf', monitor='val_loss', save_best_only=True, mode='min')"
   ]
  },
  {
   "cell_type": "code",
   "execution_count": 47,
   "id": "cf444441",
   "metadata": {},
   "outputs": [],
   "source": [
    "X = df.drop(columns=['Timestamp', 'Current', 'PV Power', 'Temperature', 'Humidity'])\n",
    "y = df['Current']"
   ]
  },
  {
   "cell_type": "code",
   "execution_count": 48,
   "id": "79ddf14e",
   "metadata": {},
   "outputs": [
    {
     "data": {
      "text/plain": [
       "Index(['Light_level', 'Voltage'], dtype='object')"
      ]
     },
     "execution_count": 48,
     "metadata": {},
     "output_type": "execute_result"
    }
   ],
   "source": [
    "X.columns"
   ]
  },
  {
   "cell_type": "code",
   "execution_count": 50,
   "id": "552c0898-903e-4203-9255-9e8246e702c3",
   "metadata": {},
   "outputs": [
    {
     "name": "stdout",
     "output_type": "stream",
     "text": [
      "Epoch 1/100\n"
     ]
    },
    {
     "name": "stderr",
     "output_type": "stream",
     "text": [
      "/home/tweety/.local/lib/python3.10/site-packages/keras/src/engine/data_adapter.py:1808: FutureWarning: The behavior of `series[i:j]` with an integer-dtype index is deprecated. In a future version, this will be treated as *label-based* indexing, consistent with e.g. `series[i]` lookups. To retain the old behavior, use `series.iloc[i:j]`. To get the future behavior, use `series.loc[i:j]`.\n",
      "  return t[start:end]\n"
     ]
    },
    {
     "name": "stdout",
     "output_type": "stream",
     "text": [
      "83/94 [=========================>....] - ETA: 0s - loss: 306964640.0000INFO:tensorflow:Assets written to: best_pv_readings_2.tf/assets\n"
     ]
    },
    {
     "name": "stderr",
     "output_type": "stream",
     "text": [
      "INFO:tensorflow:Assets written to: best_pv_readings_2.tf/assets\n"
     ]
    },
    {
     "name": "stdout",
     "output_type": "stream",
     "text": [
      "94/94 [==============================] - 1s 10ms/step - loss: 292652320.0000 - val_loss: 16899812.0000\n",
      "Epoch 2/100\n",
      "77/94 [=======================>......] - ETA: 0s - loss: 102956456.0000INFO:tensorflow:Assets written to: best_pv_readings_2.tf/assets\n"
     ]
    },
    {
     "name": "stderr",
     "output_type": "stream",
     "text": [
      "INFO:tensorflow:Assets written to: best_pv_readings_2.tf/assets\n"
     ]
    },
    {
     "name": "stdout",
     "output_type": "stream",
     "text": [
      "94/94 [==============================] - 1s 7ms/step - loss: 94087792.0000 - val_loss: 4890900.0000\n",
      "Epoch 3/100\n",
      "81/94 [========================>.....] - ETA: 0s - loss: 26835702.0000INFO:tensorflow:Assets written to: best_pv_readings_2.tf/assets\n"
     ]
    },
    {
     "name": "stderr",
     "output_type": "stream",
     "text": [
      "INFO:tensorflow:Assets written to: best_pv_readings_2.tf/assets\n"
     ]
    },
    {
     "name": "stdout",
     "output_type": "stream",
     "text": [
      "94/94 [==============================] - 1s 9ms/step - loss: 24711980.0000 - val_loss: 1051536.5000\n",
      "Epoch 4/100\n",
      "93/94 [============================>.] - ETA: 0s - loss: 4693482.5000INFO:tensorflow:Assets written to: best_pv_readings_2.tf/assets\n"
     ]
    },
    {
     "name": "stderr",
     "output_type": "stream",
     "text": [
      "INFO:tensorflow:Assets written to: best_pv_readings_2.tf/assets\n"
     ]
    },
    {
     "name": "stdout",
     "output_type": "stream",
     "text": [
      "94/94 [==============================] - 1s 16ms/step - loss: 4666308.5000 - val_loss: 151854.4531\n",
      "Epoch 5/100\n",
      "82/94 [=========================>....] - ETA: 0s - loss: 646079.9375INFO:tensorflow:Assets written to: best_pv_readings_2.tf/assets\n"
     ]
    },
    {
     "name": "stderr",
     "output_type": "stream",
     "text": [
      "INFO:tensorflow:Assets written to: best_pv_readings_2.tf/assets\n"
     ]
    },
    {
     "name": "stdout",
     "output_type": "stream",
     "text": [
      "94/94 [==============================] - 1s 7ms/step - loss: 586688.2500 - val_loss: 13763.3389\n",
      "Epoch 6/100\n",
      "89/94 [===========================>..] - ETA: 0s - loss: 49823.5938INFO:tensorflow:Assets written to: best_pv_readings_2.tf/assets\n"
     ]
    },
    {
     "name": "stderr",
     "output_type": "stream",
     "text": [
      "INFO:tensorflow:Assets written to: best_pv_readings_2.tf/assets\n"
     ]
    },
    {
     "name": "stdout",
     "output_type": "stream",
     "text": [
      "94/94 [==============================] - 1s 10ms/step - loss: 47871.5039 - val_loss: 762.0839\n",
      "Epoch 7/100\n",
      "79/94 [========================>.....] - ETA: 0s - loss: 3050.5698INFO:tensorflow:Assets written to: best_pv_readings_2.tf/assets\n"
     ]
    },
    {
     "name": "stderr",
     "output_type": "stream",
     "text": [
      "INFO:tensorflow:Assets written to: best_pv_readings_2.tf/assets\n"
     ]
    },
    {
     "name": "stdout",
     "output_type": "stream",
     "text": [
      "94/94 [==============================] - 1s 8ms/step - loss: 2635.1223 - val_loss: 36.3134\n",
      "Epoch 8/100\n",
      "90/94 [===========================>..] - ETA: 0s - loss: 118.1124INFO:tensorflow:Assets written to: best_pv_readings_2.tf/assets\n"
     ]
    },
    {
     "name": "stderr",
     "output_type": "stream",
     "text": [
      "INFO:tensorflow:Assets written to: best_pv_readings_2.tf/assets\n"
     ]
    },
    {
     "name": "stdout",
     "output_type": "stream",
     "text": [
      "94/94 [==============================] - 1s 11ms/step - loss: 114.1420 - val_loss: 31.1851\n",
      "Epoch 9/100\n",
      "94/94 [==============================] - 0s 5ms/step - loss: 8.7849 - val_loss: 34.9330\n",
      "Epoch 10/100\n",
      "94/94 [==============================] - 0s 4ms/step - loss: 6.6380 - val_loss: 35.5211\n",
      "Epoch 11/100\n",
      "94/94 [==============================] - 0s 4ms/step - loss: 6.4562 - val_loss: 35.5381\n",
      "Epoch 12/100\n",
      "94/94 [==============================] - 0s 4ms/step - loss: 6.3359 - val_loss: 35.5460\n",
      "Epoch 13/100\n",
      "94/94 [==============================] - 0s 5ms/step - loss: 6.2329 - val_loss: 35.5098\n",
      "Epoch 14/100\n",
      "84/94 [=========================>....] - ETA: 0s - loss: 5.9995INFO:tensorflow:Assets written to: best_pv_readings_2.tf/assets\n"
     ]
    },
    {
     "name": "stderr",
     "output_type": "stream",
     "text": [
      "INFO:tensorflow:Assets written to: best_pv_readings_2.tf/assets\n"
     ]
    },
    {
     "name": "stdout",
     "output_type": "stream",
     "text": [
      "94/94 [==============================] - 1s 10ms/step - loss: 5.9629 - val_loss: 8.9816\n",
      "Epoch 15/100\n",
      "94/94 [==============================] - 0s 4ms/step - loss: 60.5071 - val_loss: 35.8030\n",
      "Epoch 16/100\n",
      "94/94 [==============================] - 0s 4ms/step - loss: 6.3843 - val_loss: 35.5506\n",
      "Epoch 17/100\n",
      "94/94 [==============================] - 0s 4ms/step - loss: 6.3774 - val_loss: 35.5081\n",
      "Epoch 18/100\n",
      "94/94 [==============================] - 0s 4ms/step - loss: 6.3752 - val_loss: 35.5337\n",
      "Epoch 19/100\n",
      "94/94 [==============================] - 0s 4ms/step - loss: 6.3755 - val_loss: 35.5530\n",
      "Epoch 20/100\n",
      "94/94 [==============================] - 0s 5ms/step - loss: 6.3730 - val_loss: 35.5535\n",
      "Epoch 21/100\n",
      "94/94 [==============================] - 1s 8ms/step - loss: 6.3675 - val_loss: 35.5567\n",
      "Epoch 22/100\n",
      "94/94 [==============================] - 1s 6ms/step - loss: 6.3686 - val_loss: 35.5149\n",
      "Epoch 23/100\n",
      "94/94 [==============================] - 0s 4ms/step - loss: 6.3672 - val_loss: 35.4553\n",
      "Epoch 24/100\n",
      "94/94 [==============================] - 0s 4ms/step - loss: 6.3658 - val_loss: 35.4602\n",
      "Epoch 25/100\n",
      "94/94 [==============================] - 0s 4ms/step - loss: 6.3646 - val_loss: 35.5558\n",
      "Epoch 26/100\n",
      "94/94 [==============================] - 0s 4ms/step - loss: 6.3633 - val_loss: 35.4628\n",
      "Epoch 27/100\n",
      "94/94 [==============================] - 1s 6ms/step - loss: 6.3654 - val_loss: 35.4959\n",
      "Epoch 28/100\n",
      "94/94 [==============================] - 0s 5ms/step - loss: 6.3637 - val_loss: 35.4626\n",
      "Epoch 29/100\n",
      "94/94 [==============================] - 0s 4ms/step - loss: 6.3669 - val_loss: 35.4868\n",
      "Epoch 30/100\n",
      "94/94 [==============================] - 0s 4ms/step - loss: 6.3595 - val_loss: 35.4472\n",
      "Epoch 31/100\n",
      "94/94 [==============================] - 0s 4ms/step - loss: 6.3620 - val_loss: 35.5049\n",
      "Epoch 32/100\n",
      "94/94 [==============================] - 0s 4ms/step - loss: 6.3644 - val_loss: 35.5241\n",
      "Epoch 33/100\n",
      "94/94 [==============================] - 0s 3ms/step - loss: 6.3575 - val_loss: 35.4375\n",
      "Epoch 34/100\n",
      "94/94 [==============================] - 0s 4ms/step - loss: 6.3562 - val_loss: 35.4106\n",
      "Epoch 35/100\n",
      "94/94 [==============================] - 0s 4ms/step - loss: 6.3568 - val_loss: 35.6338\n",
      "Epoch 36/100\n",
      "94/94 [==============================] - 1s 7ms/step - loss: 6.3516 - val_loss: 35.3895\n",
      "Epoch 37/100\n",
      "94/94 [==============================] - 0s 5ms/step - loss: 6.3527 - val_loss: 35.3690\n",
      "Epoch 38/100\n",
      "94/94 [==============================] - 0s 3ms/step - loss: 6.3522 - val_loss: 35.3265\n",
      "Epoch 39/100\n",
      "94/94 [==============================] - 0s 4ms/step - loss: 6.3543 - val_loss: 35.5081\n",
      "Epoch 40/100\n",
      "94/94 [==============================] - 0s 5ms/step - loss: 6.3545 - val_loss: 35.5695\n",
      "Epoch 41/100\n",
      "94/94 [==============================] - 1s 7ms/step - loss: 6.3494 - val_loss: 35.2389\n",
      "Epoch 42/100\n",
      "94/94 [==============================] - 0s 4ms/step - loss: 6.3408 - val_loss: 35.5979\n",
      "Epoch 43/100\n",
      "94/94 [==============================] - 0s 4ms/step - loss: 6.3416 - val_loss: 35.6998\n",
      "Epoch 44/100\n",
      "94/94 [==============================] - 1s 6ms/step - loss: 6.3414 - val_loss: 35.2124\n",
      "Epoch 45/100\n",
      "94/94 [==============================] - 0s 4ms/step - loss: 6.3433 - val_loss: 35.3990\n",
      "Epoch 46/100\n",
      "94/94 [==============================] - 1s 6ms/step - loss: 6.3383 - val_loss: 35.4720\n",
      "Epoch 47/100\n",
      "94/94 [==============================] - 1s 7ms/step - loss: 6.3378 - val_loss: 35.4580\n",
      "Epoch 48/100\n",
      "94/94 [==============================] - 1s 7ms/step - loss: 6.3541 - val_loss: 35.1772\n",
      "Epoch 49/100\n",
      "94/94 [==============================] - 0s 4ms/step - loss: 6.3363 - val_loss: 35.2802\n",
      "Epoch 50/100\n",
      "94/94 [==============================] - 0s 4ms/step - loss: 6.3359 - val_loss: 35.3226\n",
      "Epoch 51/100\n",
      "94/94 [==============================] - 0s 4ms/step - loss: 6.3276 - val_loss: 35.5018\n",
      "Epoch 52/100\n",
      "94/94 [==============================] - 1s 7ms/step - loss: 6.3297 - val_loss: 35.5537\n",
      "Epoch 53/100\n",
      "94/94 [==============================] - 0s 4ms/step - loss: 6.3229 - val_loss: 35.3945\n",
      "Epoch 54/100\n",
      "94/94 [==============================] - 0s 4ms/step - loss: 6.3144 - val_loss: 35.7585\n",
      "Epoch 55/100\n",
      "94/94 [==============================] - 0s 4ms/step - loss: 6.3173 - val_loss: 35.6574\n",
      "Epoch 56/100\n",
      "94/94 [==============================] - 0s 4ms/step - loss: 6.3148 - val_loss: 35.5180\n",
      "Epoch 57/100\n",
      "94/94 [==============================] - 0s 3ms/step - loss: 6.3156 - val_loss: 35.7401\n",
      "Epoch 58/100\n",
      "94/94 [==============================] - 0s 4ms/step - loss: 6.3173 - val_loss: 35.5190\n",
      "Epoch 59/100\n",
      "94/94 [==============================] - 0s 4ms/step - loss: 6.3066 - val_loss: 35.1427\n",
      "Epoch 60/100\n",
      "94/94 [==============================] - 0s 4ms/step - loss: 6.2862 - val_loss: 34.8474\n",
      "Epoch 61/100\n",
      "94/94 [==============================] - 0s 4ms/step - loss: 6.2913 - val_loss: 35.0790\n",
      "Epoch 62/100\n",
      "94/94 [==============================] - 0s 4ms/step - loss: 6.2906 - val_loss: 35.5020\n",
      "Epoch 63/100\n",
      "94/94 [==============================] - 0s 5ms/step - loss: 6.2805 - val_loss: 35.1730\n",
      "Epoch 64/100\n",
      "94/94 [==============================] - 0s 4ms/step - loss: 6.2771 - val_loss: 35.1617\n",
      "Epoch 65/100\n",
      "94/94 [==============================] - 0s 4ms/step - loss: 6.2802 - val_loss: 35.1597\n",
      "Epoch 66/100\n",
      "94/94 [==============================] - 0s 4ms/step - loss: 6.2620 - val_loss: 34.7323\n",
      "Epoch 67/100\n",
      "94/94 [==============================] - 0s 4ms/step - loss: 6.2591 - val_loss: 35.5447\n",
      "Epoch 68/100\n",
      "94/94 [==============================] - 0s 4ms/step - loss: 6.2409 - val_loss: 35.1331\n",
      "Epoch 69/100\n",
      "94/94 [==============================] - 0s 4ms/step - loss: 6.2276 - val_loss: 34.9418\n",
      "Epoch 70/100\n",
      "94/94 [==============================] - 0s 4ms/step - loss: 6.2231 - val_loss: 34.7067\n",
      "Epoch 71/100\n",
      "94/94 [==============================] - 0s 4ms/step - loss: 6.2416 - val_loss: 35.2955\n",
      "Epoch 72/100\n",
      "94/94 [==============================] - 1s 6ms/step - loss: 6.2120 - val_loss: 34.9094\n",
      "Epoch 73/100\n",
      "94/94 [==============================] - 0s 4ms/step - loss: 6.2138 - val_loss: 35.0802\n",
      "Epoch 74/100\n",
      "94/94 [==============================] - 1s 6ms/step - loss: 6.1877 - val_loss: 34.9706\n",
      "Epoch 75/100\n",
      "94/94 [==============================] - 0s 4ms/step - loss: 6.1759 - val_loss: 35.4623\n",
      "Epoch 76/100\n",
      "94/94 [==============================] - 0s 5ms/step - loss: 6.1533 - val_loss: 34.8331\n",
      "Epoch 77/100\n",
      "94/94 [==============================] - 0s 4ms/step - loss: 6.1347 - val_loss: 35.0639\n",
      "Epoch 78/100\n",
      "94/94 [==============================] - 0s 4ms/step - loss: 6.1325 - val_loss: 34.7258\n",
      "Epoch 79/100\n",
      "94/94 [==============================] - 0s 5ms/step - loss: 6.1030 - val_loss: 34.8396\n",
      "Epoch 80/100\n",
      "94/94 [==============================] - 0s 4ms/step - loss: 6.0723 - val_loss: 34.3740\n",
      "Epoch 81/100\n",
      "94/94 [==============================] - 0s 4ms/step - loss: 6.0610 - val_loss: 35.3420\n",
      "Epoch 82/100\n",
      "94/94 [==============================] - 0s 4ms/step - loss: 6.0282 - val_loss: 35.2683\n",
      "Epoch 83/100\n",
      "94/94 [==============================] - 1s 6ms/step - loss: 5.9601 - val_loss: 34.4899\n",
      "Epoch 84/100\n",
      "94/94 [==============================] - 0s 4ms/step - loss: 5.8938 - val_loss: 35.2782\n",
      "Epoch 85/100\n",
      "94/94 [==============================] - 0s 4ms/step - loss: 5.4416 - val_loss: 34.2085\n",
      "Epoch 86/100\n",
      "94/94 [==============================] - 1s 6ms/step - loss: 7.5396 - val_loss: 34.8302\n",
      "Epoch 87/100\n",
      "94/94 [==============================] - 0s 4ms/step - loss: 6.1804 - val_loss: 34.0600\n",
      "Epoch 88/100\n",
      "94/94 [==============================] - 0s 5ms/step - loss: 6.1727 - val_loss: 34.6387\n",
      "Epoch 89/100\n",
      "94/94 [==============================] - 0s 4ms/step - loss: 6.1738 - val_loss: 34.1705\n",
      "Epoch 90/100\n",
      "94/94 [==============================] - 0s 4ms/step - loss: 6.1719 - val_loss: 33.9596\n",
      "Epoch 91/100\n",
      "94/94 [==============================] - 0s 4ms/step - loss: 6.0960 - val_loss: 33.9502\n",
      "Epoch 92/100\n",
      "94/94 [==============================] - 0s 4ms/step - loss: 6.0549 - val_loss: 34.7369\n",
      "Epoch 93/100\n",
      "94/94 [==============================] - 0s 4ms/step - loss: 6.0491 - val_loss: 34.0171\n",
      "Epoch 94/100\n",
      "94/94 [==============================] - 0s 4ms/step - loss: 6.1417 - val_loss: 33.7132\n",
      "Epoch 95/100\n",
      "94/94 [==============================] - 0s 5ms/step - loss: 5.9198 - val_loss: 34.2050\n",
      "Epoch 96/100\n",
      "94/94 [==============================] - 0s 4ms/step - loss: 5.6725 - val_loss: 34.0426\n",
      "Epoch 97/100\n",
      "94/94 [==============================] - 0s 4ms/step - loss: 6.0329 - val_loss: 33.8851\n",
      "Epoch 98/100\n",
      "94/94 [==============================] - 0s 4ms/step - loss: 5.8897 - val_loss: 34.4738\n",
      "Epoch 99/100\n",
      "94/94 [==============================] - 0s 4ms/step - loss: 5.6757 - val_loss: 34.1554\n",
      "Epoch 100/100\n",
      "94/94 [==============================] - 0s 4ms/step - loss: 5.5374 - val_loss: 32.5851\n"
     ]
    },
    {
     "data": {
      "text/plain": [
       "<keras.src.callbacks.History at 0x7f175c7b9ed0>"
      ]
     },
     "execution_count": 50,
     "metadata": {},
     "output_type": "execute_result"
    }
   ],
   "source": [
    "model = Sequential()\n",
    "model.add(Dense(10, input_dim=2, activation='relu'))\n",
    "model.add(Dense(1, activation='linear'))\n",
    "model.compile(optimizer='adam', loss='mean_squared_error')\n",
    "model.fit(X, y, epochs=100, verbose=1, validation_split=0.2, callbacks=[checkpoint])"
   ]
  },
  {
   "cell_type": "code",
   "execution_count": 51,
   "id": "f174396d",
   "metadata": {},
   "outputs": [],
   "source": [
    "from sklearn.model_selection import train_test_split\n",
    "train, df2 = train_test_split(df, test_size=0.2, random_state=5)\n",
    "val, test = train_test_split(df2, test_size=0.5, random_state=2)"
   ]
  },
  {
   "cell_type": "code",
   "execution_count": 52,
   "id": "6975779c",
   "metadata": {},
   "outputs": [],
   "source": [
    "X_train, y_train = train.drop(columns=['Timestamp', 'Current', 'PV Power', 'Temperature', 'Humidity']), train['Current']\n",
    "X_val, y_val = val.drop(columns=['Timestamp', 'Current', 'PV Power', 'Temperature', 'Humidity']), val['Current']\n",
    "X_test, y_test = test.drop(columns=['Timestamp', 'Current', 'PV Power', 'Temperature', 'Humidity']), test['Current']"
   ]
  },
  {
   "cell_type": "code",
   "execution_count": 53,
   "id": "232ecf0b",
   "metadata": {},
   "outputs": [],
   "source": [
    "from sklearn.preprocessing import MinMaxScaler\n",
    "sc = MinMaxScaler()\n",
    "X_train = sc.fit_transform(X_train)\n",
    "X_val = sc.fit_transform(X_val)\n",
    "X_test = sc.fit_transform(X_test)"
   ]
  },
  {
   "cell_type": "code",
   "execution_count": 55,
   "id": "8e15559c-4d98-457d-9b53-f4b309b96814",
   "metadata": {},
   "outputs": [
    {
     "name": "stdout",
     "output_type": "stream",
     "text": [
      "Epoch 1/100\n",
      "84/94 [=========================>....] - ETA: 0s - loss: 0.3939INFO:tensorflow:Assets written to: best_pv_readings_2.tf/assets\n"
     ]
    },
    {
     "name": "stderr",
     "output_type": "stream",
     "text": [
      "INFO:tensorflow:Assets written to: best_pv_readings_2.tf/assets\n"
     ]
    },
    {
     "name": "stdout",
     "output_type": "stream",
     "text": [
      "94/94 [==============================] - 1s 8ms/step - loss: 0.3882 - val_loss: 0.4050\n",
      "Epoch 2/100\n",
      "85/94 [==========================>...] - ETA: 0s - loss: 0.3514INFO:tensorflow:Assets written to: best_pv_readings_2.tf/assets\n"
     ]
    },
    {
     "name": "stderr",
     "output_type": "stream",
     "text": [
      "INFO:tensorflow:Assets written to: best_pv_readings_2.tf/assets\n"
     ]
    },
    {
     "name": "stdout",
     "output_type": "stream",
     "text": [
      "94/94 [==============================] - 1s 7ms/step - loss: 0.3571 - val_loss: 0.3743\n",
      "Epoch 3/100\n",
      "92/94 [============================>.] - ETA: 0s - loss: 0.3275INFO:tensorflow:Assets written to: best_pv_readings_2.tf/assets\n"
     ]
    },
    {
     "name": "stderr",
     "output_type": "stream",
     "text": [
      "INFO:tensorflow:Assets written to: best_pv_readings_2.tf/assets\n"
     ]
    },
    {
     "name": "stdout",
     "output_type": "stream",
     "text": [
      "94/94 [==============================] - 1s 8ms/step - loss: 0.3287 - val_loss: 0.3457\n",
      "Epoch 4/100\n",
      "85/94 [==========================>...] - ETA: 0s - loss: 0.3074INFO:tensorflow:Assets written to: best_pv_readings_2.tf/assets\n"
     ]
    },
    {
     "name": "stderr",
     "output_type": "stream",
     "text": [
      "INFO:tensorflow:Assets written to: best_pv_readings_2.tf/assets\n"
     ]
    },
    {
     "name": "stdout",
     "output_type": "stream",
     "text": [
      "94/94 [==============================] - 1s 7ms/step - loss: 0.3026 - val_loss: 0.3193\n",
      "Epoch 5/100\n",
      "86/94 [==========================>...] - ETA: 0s - loss: 0.2772INFO:tensorflow:Assets written to: best_pv_readings_2.tf/assets\n"
     ]
    },
    {
     "name": "stderr",
     "output_type": "stream",
     "text": [
      "INFO:tensorflow:Assets written to: best_pv_readings_2.tf/assets\n"
     ]
    },
    {
     "name": "stdout",
     "output_type": "stream",
     "text": [
      "94/94 [==============================] - 1s 8ms/step - loss: 0.2789 - val_loss: 0.2956\n",
      "Epoch 6/100\n",
      "86/94 [==========================>...] - ETA: 0s - loss: 0.2623INFO:tensorflow:Assets written to: best_pv_readings_2.tf/assets\n"
     ]
    },
    {
     "name": "stderr",
     "output_type": "stream",
     "text": [
      "INFO:tensorflow:Assets written to: best_pv_readings_2.tf/assets\n"
     ]
    },
    {
     "name": "stdout",
     "output_type": "stream",
     "text": [
      "94/94 [==============================] - 1s 9ms/step - loss: 0.2572 - val_loss: 0.2731\n",
      "Epoch 7/100\n",
      "83/94 [=========================>....] - ETA: 0s - loss: 0.2330INFO:tensorflow:Assets written to: best_pv_readings_2.tf/assets\n"
     ]
    },
    {
     "name": "stderr",
     "output_type": "stream",
     "text": [
      "INFO:tensorflow:Assets written to: best_pv_readings_2.tf/assets\n"
     ]
    },
    {
     "name": "stdout",
     "output_type": "stream",
     "text": [
      "94/94 [==============================] - 1s 7ms/step - loss: 0.2374 - val_loss: 0.2533\n",
      "Epoch 8/100\n",
      "86/94 [==========================>...] - ETA: 0s - loss: 0.2270INFO:tensorflow:Assets written to: best_pv_readings_2.tf/assets\n"
     ]
    },
    {
     "name": "stderr",
     "output_type": "stream",
     "text": [
      "INFO:tensorflow:Assets written to: best_pv_readings_2.tf/assets\n"
     ]
    },
    {
     "name": "stdout",
     "output_type": "stream",
     "text": [
      "94/94 [==============================] - 1s 7ms/step - loss: 0.2195 - val_loss: 0.2346\n",
      "Epoch 9/100\n",
      "90/94 [===========================>..] - ETA: 0s - loss: 0.2052INFO:tensorflow:Assets written to: best_pv_readings_2.tf/assets\n"
     ]
    },
    {
     "name": "stderr",
     "output_type": "stream",
     "text": [
      "INFO:tensorflow:Assets written to: best_pv_readings_2.tf/assets\n"
     ]
    },
    {
     "name": "stdout",
     "output_type": "stream",
     "text": [
      "94/94 [==============================] - 1s 7ms/step - loss: 0.2031 - val_loss: 0.2179\n",
      "Epoch 10/100\n",
      "73/94 [======================>.......] - ETA: 0s - loss: 0.1917INFO:tensorflow:Assets written to: best_pv_readings_2.tf/assets\n"
     ]
    },
    {
     "name": "stderr",
     "output_type": "stream",
     "text": [
      "INFO:tensorflow:Assets written to: best_pv_readings_2.tf/assets\n"
     ]
    },
    {
     "name": "stdout",
     "output_type": "stream",
     "text": [
      "94/94 [==============================] - 1s 7ms/step - loss: 0.1882 - val_loss: 0.2025\n",
      "Epoch 11/100\n",
      "93/94 [============================>.] - ETA: 0s - loss: 0.1752INFO:tensorflow:Assets written to: best_pv_readings_2.tf/assets\n"
     ]
    },
    {
     "name": "stderr",
     "output_type": "stream",
     "text": [
      "INFO:tensorflow:Assets written to: best_pv_readings_2.tf/assets\n"
     ]
    },
    {
     "name": "stdout",
     "output_type": "stream",
     "text": [
      "94/94 [==============================] - 1s 7ms/step - loss: 0.1746 - val_loss: 0.1885\n",
      "Epoch 12/100\n",
      "88/94 [===========================>..] - ETA: 0s - loss: 0.1621INFO:tensorflow:Assets written to: best_pv_readings_2.tf/assets\n"
     ]
    },
    {
     "name": "stderr",
     "output_type": "stream",
     "text": [
      "INFO:tensorflow:Assets written to: best_pv_readings_2.tf/assets\n"
     ]
    },
    {
     "name": "stdout",
     "output_type": "stream",
     "text": [
      "94/94 [==============================] - 1s 10ms/step - loss: 0.1622 - val_loss: 0.1758\n",
      "Epoch 13/100\n",
      "77/94 [=======================>......] - ETA: 0s - loss: 0.1540INFO:tensorflow:Assets written to: best_pv_readings_2.tf/assets\n"
     ]
    },
    {
     "name": "stderr",
     "output_type": "stream",
     "text": [
      "INFO:tensorflow:Assets written to: best_pv_readings_2.tf/assets\n"
     ]
    },
    {
     "name": "stdout",
     "output_type": "stream",
     "text": [
      "94/94 [==============================] - 1s 7ms/step - loss: 0.1510 - val_loss: 0.1642\n",
      "Epoch 14/100\n",
      "92/94 [============================>.] - ETA: 0s - loss: 0.1418INFO:tensorflow:Assets written to: best_pv_readings_2.tf/assets\n"
     ]
    },
    {
     "name": "stderr",
     "output_type": "stream",
     "text": [
      "INFO:tensorflow:Assets written to: best_pv_readings_2.tf/assets\n"
     ]
    },
    {
     "name": "stdout",
     "output_type": "stream",
     "text": [
      "94/94 [==============================] - 1s 7ms/step - loss: 0.1408 - val_loss: 0.1535\n",
      "Epoch 15/100\n",
      "86/94 [==========================>...] - ETA: 0s - loss: 0.1308INFO:tensorflow:Assets written to: best_pv_readings_2.tf/assets\n"
     ]
    },
    {
     "name": "stderr",
     "output_type": "stream",
     "text": [
      "INFO:tensorflow:Assets written to: best_pv_readings_2.tf/assets\n"
     ]
    },
    {
     "name": "stdout",
     "output_type": "stream",
     "text": [
      "94/94 [==============================] - 1s 7ms/step - loss: 0.1316 - val_loss: 0.1439\n",
      "Epoch 16/100\n",
      "90/94 [===========================>..] - ETA: 0s - loss: 0.1220INFO:tensorflow:Assets written to: best_pv_readings_2.tf/assets\n"
     ]
    },
    {
     "name": "stderr",
     "output_type": "stream",
     "text": [
      "INFO:tensorflow:Assets written to: best_pv_readings_2.tf/assets\n"
     ]
    },
    {
     "name": "stdout",
     "output_type": "stream",
     "text": [
      "94/94 [==============================] - 1s 8ms/step - loss: 0.1232 - val_loss: 0.1350\n",
      "Epoch 17/100\n",
      "91/94 [============================>.] - ETA: 0s - loss: 0.1138INFO:tensorflow:Assets written to: best_pv_readings_2.tf/assets\n"
     ]
    },
    {
     "name": "stderr",
     "output_type": "stream",
     "text": [
      "INFO:tensorflow:Assets written to: best_pv_readings_2.tf/assets\n"
     ]
    },
    {
     "name": "stdout",
     "output_type": "stream",
     "text": [
      "94/94 [==============================] - 1s 8ms/step - loss: 0.1153 - val_loss: 0.1268\n",
      "Epoch 18/100\n",
      "86/94 [==========================>...] - ETA: 0s - loss: 0.1070INFO:tensorflow:Assets written to: best_pv_readings_2.tf/assets\n"
     ]
    },
    {
     "name": "stderr",
     "output_type": "stream",
     "text": [
      "INFO:tensorflow:Assets written to: best_pv_readings_2.tf/assets\n"
     ]
    },
    {
     "name": "stdout",
     "output_type": "stream",
     "text": [
      "94/94 [==============================] - 1s 10ms/step - loss: 0.1080 - val_loss: 0.1188\n",
      "Epoch 19/100\n",
      "92/94 [============================>.] - ETA: 0s - loss: 0.1019INFO:tensorflow:Assets written to: best_pv_readings_2.tf/assets\n"
     ]
    },
    {
     "name": "stderr",
     "output_type": "stream",
     "text": [
      "INFO:tensorflow:Assets written to: best_pv_readings_2.tf/assets\n"
     ]
    },
    {
     "name": "stdout",
     "output_type": "stream",
     "text": [
      "94/94 [==============================] - 1s 9ms/step - loss: 0.1011 - val_loss: 0.1113\n",
      "Epoch 20/100\n",
      "93/94 [============================>.] - ETA: 0s - loss: 0.0931INFO:tensorflow:Assets written to: best_pv_readings_2.tf/assets\n"
     ]
    },
    {
     "name": "stderr",
     "output_type": "stream",
     "text": [
      "INFO:tensorflow:Assets written to: best_pv_readings_2.tf/assets\n"
     ]
    },
    {
     "name": "stdout",
     "output_type": "stream",
     "text": [
      "94/94 [==============================] - 1s 10ms/step - loss: 0.0945 - val_loss: 0.1043\n",
      "Epoch 21/100\n",
      "79/94 [========================>.....] - ETA: 0s - loss: 0.0884INFO:tensorflow:Assets written to: best_pv_readings_2.tf/assets\n"
     ]
    },
    {
     "name": "stderr",
     "output_type": "stream",
     "text": [
      "INFO:tensorflow:Assets written to: best_pv_readings_2.tf/assets\n"
     ]
    },
    {
     "name": "stdout",
     "output_type": "stream",
     "text": [
      "94/94 [==============================] - 1s 7ms/step - loss: 0.0883 - val_loss: 0.0974\n",
      "Epoch 22/100\n",
      "76/94 [=======================>......] - ETA: 0s - loss: 0.0874INFO:tensorflow:Assets written to: best_pv_readings_2.tf/assets\n"
     ]
    },
    {
     "name": "stderr",
     "output_type": "stream",
     "text": [
      "INFO:tensorflow:Assets written to: best_pv_readings_2.tf/assets\n"
     ]
    },
    {
     "name": "stdout",
     "output_type": "stream",
     "text": [
      "94/94 [==============================] - 1s 10ms/step - loss: 0.0824 - val_loss: 0.0908\n",
      "Epoch 23/100\n",
      "85/94 [==========================>...] - ETA: 0s - loss: 0.0757INFO:tensorflow:Assets written to: best_pv_readings_2.tf/assets\n"
     ]
    },
    {
     "name": "stderr",
     "output_type": "stream",
     "text": [
      "INFO:tensorflow:Assets written to: best_pv_readings_2.tf/assets\n"
     ]
    },
    {
     "name": "stdout",
     "output_type": "stream",
     "text": [
      "94/94 [==============================] - 1s 8ms/step - loss: 0.0767 - val_loss: 0.0846\n",
      "Epoch 24/100\n",
      "88/94 [===========================>..] - ETA: 0s - loss: 0.0717INFO:tensorflow:Assets written to: best_pv_readings_2.tf/assets\n"
     ]
    },
    {
     "name": "stderr",
     "output_type": "stream",
     "text": [
      "INFO:tensorflow:Assets written to: best_pv_readings_2.tf/assets\n"
     ]
    },
    {
     "name": "stdout",
     "output_type": "stream",
     "text": [
      "94/94 [==============================] - 1s 9ms/step - loss: 0.0714 - val_loss: 0.0787\n",
      "Epoch 25/100\n",
      "80/94 [========================>.....] - ETA: 0s - loss: 0.0642INFO:tensorflow:Assets written to: best_pv_readings_2.tf/assets\n"
     ]
    },
    {
     "name": "stderr",
     "output_type": "stream",
     "text": [
      "INFO:tensorflow:Assets written to: best_pv_readings_2.tf/assets\n"
     ]
    },
    {
     "name": "stdout",
     "output_type": "stream",
     "text": [
      "94/94 [==============================] - 1s 7ms/step - loss: 0.0664 - val_loss: 0.0730\n",
      "Epoch 26/100\n",
      "94/94 [==============================] - ETA: 0s - loss: 0.0615INFO:tensorflow:Assets written to: best_pv_readings_2.tf/assets\n"
     ]
    },
    {
     "name": "stderr",
     "output_type": "stream",
     "text": [
      "INFO:tensorflow:Assets written to: best_pv_readings_2.tf/assets\n"
     ]
    },
    {
     "name": "stdout",
     "output_type": "stream",
     "text": [
      "94/94 [==============================] - 1s 8ms/step - loss: 0.0615 - val_loss: 0.0677\n",
      "Epoch 27/100\n",
      "83/94 [=========================>....] - ETA: 0s - loss: 0.0596INFO:tensorflow:Assets written to: best_pv_readings_2.tf/assets\n"
     ]
    },
    {
     "name": "stderr",
     "output_type": "stream",
     "text": [
      "INFO:tensorflow:Assets written to: best_pv_readings_2.tf/assets\n"
     ]
    },
    {
     "name": "stdout",
     "output_type": "stream",
     "text": [
      "94/94 [==============================] - 1s 7ms/step - loss: 0.0570 - val_loss: 0.0625\n",
      "Epoch 28/100\n",
      "94/94 [==============================] - ETA: 0s - loss: 0.0527INFO:tensorflow:Assets written to: best_pv_readings_2.tf/assets\n"
     ]
    },
    {
     "name": "stderr",
     "output_type": "stream",
     "text": [
      "INFO:tensorflow:Assets written to: best_pv_readings_2.tf/assets\n"
     ]
    },
    {
     "name": "stdout",
     "output_type": "stream",
     "text": [
      "94/94 [==============================] - 1s 7ms/step - loss: 0.0527 - val_loss: 0.0577\n",
      "Epoch 29/100\n",
      "81/94 [========================>.....] - ETA: 0s - loss: 0.0497INFO:tensorflow:Assets written to: best_pv_readings_2.tf/assets\n"
     ]
    },
    {
     "name": "stderr",
     "output_type": "stream",
     "text": [
      "INFO:tensorflow:Assets written to: best_pv_readings_2.tf/assets\n"
     ]
    },
    {
     "name": "stdout",
     "output_type": "stream",
     "text": [
      "94/94 [==============================] - 1s 7ms/step - loss: 0.0487 - val_loss: 0.0533\n",
      "Epoch 30/100\n",
      "84/94 [=========================>....] - ETA: 0s - loss: 0.0448INFO:tensorflow:Assets written to: best_pv_readings_2.tf/assets\n"
     ]
    },
    {
     "name": "stderr",
     "output_type": "stream",
     "text": [
      "INFO:tensorflow:Assets written to: best_pv_readings_2.tf/assets\n"
     ]
    },
    {
     "name": "stdout",
     "output_type": "stream",
     "text": [
      "94/94 [==============================] - 1s 7ms/step - loss: 0.0450 - val_loss: 0.0490\n",
      "Epoch 31/100\n",
      "86/94 [==========================>...] - ETA: 0s - loss: 0.0425INFO:tensorflow:Assets written to: best_pv_readings_2.tf/assets\n"
     ]
    },
    {
     "name": "stderr",
     "output_type": "stream",
     "text": [
      "INFO:tensorflow:Assets written to: best_pv_readings_2.tf/assets\n"
     ]
    },
    {
     "name": "stdout",
     "output_type": "stream",
     "text": [
      "94/94 [==============================] - 1s 7ms/step - loss: 0.0414 - val_loss: 0.0450\n",
      "Epoch 32/100\n",
      "73/94 [======================>.......] - ETA: 0s - loss: 0.0398INFO:tensorflow:Assets written to: best_pv_readings_2.tf/assets\n"
     ]
    },
    {
     "name": "stderr",
     "output_type": "stream",
     "text": [
      "INFO:tensorflow:Assets written to: best_pv_readings_2.tf/assets\n"
     ]
    },
    {
     "name": "stdout",
     "output_type": "stream",
     "text": [
      "94/94 [==============================] - 1s 7ms/step - loss: 0.0381 - val_loss: 0.0414\n",
      "Epoch 33/100\n",
      "81/94 [========================>.....] - ETA: 0s - loss: 0.0369INFO:tensorflow:Assets written to: best_pv_readings_2.tf/assets\n"
     ]
    },
    {
     "name": "stderr",
     "output_type": "stream",
     "text": [
      "INFO:tensorflow:Assets written to: best_pv_readings_2.tf/assets\n"
     ]
    },
    {
     "name": "stdout",
     "output_type": "stream",
     "text": [
      "94/94 [==============================] - 1s 7ms/step - loss: 0.0350 - val_loss: 0.0378\n",
      "Epoch 34/100\n",
      "92/94 [============================>.] - ETA: 0s - loss: 0.0327INFO:tensorflow:Assets written to: best_pv_readings_2.tf/assets\n"
     ]
    },
    {
     "name": "stderr",
     "output_type": "stream",
     "text": [
      "INFO:tensorflow:Assets written to: best_pv_readings_2.tf/assets\n"
     ]
    },
    {
     "name": "stdout",
     "output_type": "stream",
     "text": [
      "94/94 [==============================] - 1s 7ms/step - loss: 0.0321 - val_loss: 0.0346\n",
      "Epoch 35/100\n",
      "75/94 [======================>.......] - ETA: 0s - loss: 0.0287INFO:tensorflow:Assets written to: best_pv_readings_2.tf/assets\n"
     ]
    },
    {
     "name": "stderr",
     "output_type": "stream",
     "text": [
      "INFO:tensorflow:Assets written to: best_pv_readings_2.tf/assets\n"
     ]
    },
    {
     "name": "stdout",
     "output_type": "stream",
     "text": [
      "94/94 [==============================] - 1s 7ms/step - loss: 0.0295 - val_loss: 0.0316\n",
      "Epoch 36/100\n",
      "87/94 [==========================>...] - ETA: 0s - loss: 0.0274INFO:tensorflow:Assets written to: best_pv_readings_2.tf/assets\n"
     ]
    },
    {
     "name": "stderr",
     "output_type": "stream",
     "text": [
      "INFO:tensorflow:Assets written to: best_pv_readings_2.tf/assets\n"
     ]
    },
    {
     "name": "stdout",
     "output_type": "stream",
     "text": [
      "94/94 [==============================] - 1s 7ms/step - loss: 0.0270 - val_loss: 0.0289\n",
      "Epoch 37/100\n",
      "83/94 [=========================>....] - ETA: 0s - loss: 0.0249INFO:tensorflow:Assets written to: best_pv_readings_2.tf/assets\n"
     ]
    },
    {
     "name": "stderr",
     "output_type": "stream",
     "text": [
      "INFO:tensorflow:Assets written to: best_pv_readings_2.tf/assets\n"
     ]
    },
    {
     "name": "stdout",
     "output_type": "stream",
     "text": [
      "94/94 [==============================] - 1s 7ms/step - loss: 0.0247 - val_loss: 0.0263\n",
      "Epoch 38/100\n",
      "93/94 [============================>.] - ETA: 0s - loss: 0.0225INFO:tensorflow:Assets written to: best_pv_readings_2.tf/assets\n"
     ]
    },
    {
     "name": "stderr",
     "output_type": "stream",
     "text": [
      "INFO:tensorflow:Assets written to: best_pv_readings_2.tf/assets\n"
     ]
    },
    {
     "name": "stdout",
     "output_type": "stream",
     "text": [
      "94/94 [==============================] - 1s 7ms/step - loss: 0.0226 - val_loss: 0.0238\n",
      "Epoch 39/100\n",
      "77/94 [=======================>......] - ETA: 0s - loss: 0.0219INFO:tensorflow:Assets written to: best_pv_readings_2.tf/assets\n"
     ]
    },
    {
     "name": "stderr",
     "output_type": "stream",
     "text": [
      "INFO:tensorflow:Assets written to: best_pv_readings_2.tf/assets\n"
     ]
    },
    {
     "name": "stdout",
     "output_type": "stream",
     "text": [
      "94/94 [==============================] - 1s 6ms/step - loss: 0.0206 - val_loss: 0.0215\n",
      "Epoch 40/100\n",
      "73/94 [======================>.......] - ETA: 0s - loss: 0.0196INFO:tensorflow:Assets written to: best_pv_readings_2.tf/assets\n"
     ]
    },
    {
     "name": "stderr",
     "output_type": "stream",
     "text": [
      "INFO:tensorflow:Assets written to: best_pv_readings_2.tf/assets\n"
     ]
    },
    {
     "name": "stdout",
     "output_type": "stream",
     "text": [
      "94/94 [==============================] - 1s 7ms/step - loss: 0.0188 - val_loss: 0.0195\n",
      "Epoch 41/100\n",
      "90/94 [===========================>..] - ETA: 0s - loss: 0.0174INFO:tensorflow:Assets written to: best_pv_readings_2.tf/assets\n"
     ]
    },
    {
     "name": "stderr",
     "output_type": "stream",
     "text": [
      "INFO:tensorflow:Assets written to: best_pv_readings_2.tf/assets\n"
     ]
    },
    {
     "name": "stdout",
     "output_type": "stream",
     "text": [
      "94/94 [==============================] - 1s 7ms/step - loss: 0.0171 - val_loss: 0.0176\n",
      "Epoch 42/100\n",
      "86/94 [==========================>...] - ETA: 0s - loss: 0.0158INFO:tensorflow:Assets written to: best_pv_readings_2.tf/assets\n"
     ]
    },
    {
     "name": "stderr",
     "output_type": "stream",
     "text": [
      "INFO:tensorflow:Assets written to: best_pv_readings_2.tf/assets\n"
     ]
    },
    {
     "name": "stdout",
     "output_type": "stream",
     "text": [
      "94/94 [==============================] - 1s 7ms/step - loss: 0.0156 - val_loss: 0.0159\n",
      "Epoch 43/100\n",
      "94/94 [==============================] - ETA: 0s - loss: 0.0142INFO:tensorflow:Assets written to: best_pv_readings_2.tf/assets\n"
     ]
    },
    {
     "name": "stderr",
     "output_type": "stream",
     "text": [
      "INFO:tensorflow:Assets written to: best_pv_readings_2.tf/assets\n"
     ]
    },
    {
     "name": "stdout",
     "output_type": "stream",
     "text": [
      "94/94 [==============================] - 1s 7ms/step - loss: 0.0142 - val_loss: 0.0143\n",
      "Epoch 44/100\n",
      "82/94 [=========================>....] - ETA: 0s - loss: 0.0138INFO:tensorflow:Assets written to: best_pv_readings_2.tf/assets\n"
     ]
    },
    {
     "name": "stderr",
     "output_type": "stream",
     "text": [
      "INFO:tensorflow:Assets written to: best_pv_readings_2.tf/assets\n"
     ]
    },
    {
     "name": "stdout",
     "output_type": "stream",
     "text": [
      "94/94 [==============================] - 1s 7ms/step - loss: 0.0130 - val_loss: 0.0128\n",
      "Epoch 45/100\n",
      "85/94 [==========================>...] - ETA: 0s - loss: 0.0110INFO:tensorflow:Assets written to: best_pv_readings_2.tf/assets\n"
     ]
    },
    {
     "name": "stderr",
     "output_type": "stream",
     "text": [
      "INFO:tensorflow:Assets written to: best_pv_readings_2.tf/assets\n"
     ]
    },
    {
     "name": "stdout",
     "output_type": "stream",
     "text": [
      "94/94 [==============================] - 1s 6ms/step - loss: 0.0119 - val_loss: 0.0116\n",
      "Epoch 46/100\n",
      "77/94 [=======================>......] - ETA: 0s - loss: 0.0114INFO:tensorflow:Assets written to: best_pv_readings_2.tf/assets\n"
     ]
    },
    {
     "name": "stderr",
     "output_type": "stream",
     "text": [
      "INFO:tensorflow:Assets written to: best_pv_readings_2.tf/assets\n"
     ]
    },
    {
     "name": "stdout",
     "output_type": "stream",
     "text": [
      "94/94 [==============================] - 1s 7ms/step - loss: 0.0109 - val_loss: 0.0104\n",
      "Epoch 47/100\n",
      "94/94 [==============================] - ETA: 0s - loss: 0.0099INFO:tensorflow:Assets written to: best_pv_readings_2.tf/assets\n"
     ]
    },
    {
     "name": "stderr",
     "output_type": "stream",
     "text": [
      "INFO:tensorflow:Assets written to: best_pv_readings_2.tf/assets\n"
     ]
    },
    {
     "name": "stdout",
     "output_type": "stream",
     "text": [
      "94/94 [==============================] - 1s 7ms/step - loss: 0.0099 - val_loss: 0.0094\n",
      "Epoch 48/100\n",
      "87/94 [==========================>...] - ETA: 0s - loss: 0.0094INFO:tensorflow:Assets written to: best_pv_readings_2.tf/assets\n"
     ]
    },
    {
     "name": "stderr",
     "output_type": "stream",
     "text": [
      "INFO:tensorflow:Assets written to: best_pv_readings_2.tf/assets\n"
     ]
    },
    {
     "name": "stdout",
     "output_type": "stream",
     "text": [
      "94/94 [==============================] - 1s 7ms/step - loss: 0.0091 - val_loss: 0.0084\n",
      "Epoch 49/100\n",
      "94/94 [==============================] - ETA: 0s - loss: 0.0084INFO:tensorflow:Assets written to: best_pv_readings_2.tf/assets\n"
     ]
    },
    {
     "name": "stderr",
     "output_type": "stream",
     "text": [
      "INFO:tensorflow:Assets written to: best_pv_readings_2.tf/assets\n"
     ]
    },
    {
     "name": "stdout",
     "output_type": "stream",
     "text": [
      "94/94 [==============================] - 1s 11ms/step - loss: 0.0084 - val_loss: 0.0076\n",
      "Epoch 50/100\n",
      "85/94 [==========================>...] - ETA: 0s - loss: 0.0078 INFO:tensorflow:Assets written to: best_pv_readings_2.tf/assets\n"
     ]
    },
    {
     "name": "stderr",
     "output_type": "stream",
     "text": [
      "INFO:tensorflow:Assets written to: best_pv_readings_2.tf/assets\n"
     ]
    },
    {
     "name": "stdout",
     "output_type": "stream",
     "text": [
      "94/94 [==============================] - 1s 6ms/step - loss: 0.0077 - val_loss: 0.0068\n",
      "Epoch 51/100\n",
      "83/94 [=========================>....] - ETA: 0s - loss: 0.0073INFO:tensorflow:Assets written to: best_pv_readings_2.tf/assets\n"
     ]
    },
    {
     "name": "stderr",
     "output_type": "stream",
     "text": [
      "INFO:tensorflow:Assets written to: best_pv_readings_2.tf/assets\n"
     ]
    },
    {
     "name": "stdout",
     "output_type": "stream",
     "text": [
      "94/94 [==============================] - 1s 7ms/step - loss: 0.0071 - val_loss: 0.0061\n",
      "Epoch 52/100\n",
      "81/94 [========================>.....] - ETA: 0s - loss: 0.0058INFO:tensorflow:Assets written to: best_pv_readings_2.tf/assets\n"
     ]
    },
    {
     "name": "stderr",
     "output_type": "stream",
     "text": [
      "INFO:tensorflow:Assets written to: best_pv_readings_2.tf/assets\n"
     ]
    },
    {
     "name": "stdout",
     "output_type": "stream",
     "text": [
      "94/94 [==============================] - 1s 8ms/step - loss: 0.0065 - val_loss: 0.0055\n",
      "Epoch 53/100\n",
      "90/94 [===========================>..] - ETA: 0s - loss: 0.0060INFO:tensorflow:Assets written to: best_pv_readings_2.tf/assets\n"
     ]
    },
    {
     "name": "stderr",
     "output_type": "stream",
     "text": [
      "INFO:tensorflow:Assets written to: best_pv_readings_2.tf/assets\n"
     ]
    },
    {
     "name": "stdout",
     "output_type": "stream",
     "text": [
      "94/94 [==============================] - 1s 12ms/step - loss: 0.0060 - val_loss: 0.0049\n",
      "Epoch 54/100\n",
      "83/94 [=========================>....] - ETA: 0s - loss: 0.0061INFO:tensorflow:Assets written to: best_pv_readings_2.tf/assets\n"
     ]
    },
    {
     "name": "stderr",
     "output_type": "stream",
     "text": [
      "INFO:tensorflow:Assets written to: best_pv_readings_2.tf/assets\n"
     ]
    },
    {
     "name": "stdout",
     "output_type": "stream",
     "text": [
      "94/94 [==============================] - 1s 10ms/step - loss: 0.0056 - val_loss: 0.0044\n",
      "Epoch 55/100\n",
      "91/94 [============================>.] - ETA: 0s - loss: 0.0048INFO:tensorflow:Assets written to: best_pv_readings_2.tf/assets\n"
     ]
    },
    {
     "name": "stderr",
     "output_type": "stream",
     "text": [
      "INFO:tensorflow:Assets written to: best_pv_readings_2.tf/assets\n"
     ]
    },
    {
     "name": "stdout",
     "output_type": "stream",
     "text": [
      "94/94 [==============================] - 1s 9ms/step - loss: 0.0052 - val_loss: 0.0040\n",
      "Epoch 56/100\n",
      "81/94 [========================>.....] - ETA: 0s - loss: 0.0052INFO:tensorflow:Assets written to: best_pv_readings_2.tf/assets\n"
     ]
    },
    {
     "name": "stderr",
     "output_type": "stream",
     "text": [
      "INFO:tensorflow:Assets written to: best_pv_readings_2.tf/assets\n"
     ]
    },
    {
     "name": "stdout",
     "output_type": "stream",
     "text": [
      "94/94 [==============================] - 1s 10ms/step - loss: 0.0049 - val_loss: 0.0036\n",
      "Epoch 57/100\n",
      "86/94 [==========================>...] - ETA: 0s - loss: 0.0043INFO:tensorflow:Assets written to: best_pv_readings_2.tf/assets\n"
     ]
    },
    {
     "name": "stderr",
     "output_type": "stream",
     "text": [
      "INFO:tensorflow:Assets written to: best_pv_readings_2.tf/assets\n"
     ]
    },
    {
     "name": "stdout",
     "output_type": "stream",
     "text": [
      "94/94 [==============================] - 1s 8ms/step - loss: 0.0045 - val_loss: 0.0032\n",
      "Epoch 58/100\n",
      "81/94 [========================>.....] - ETA: 0s - loss: 0.0046INFO:tensorflow:Assets written to: best_pv_readings_2.tf/assets\n"
     ]
    },
    {
     "name": "stderr",
     "output_type": "stream",
     "text": [
      "INFO:tensorflow:Assets written to: best_pv_readings_2.tf/assets\n"
     ]
    },
    {
     "name": "stdout",
     "output_type": "stream",
     "text": [
      "94/94 [==============================] - 1s 7ms/step - loss: 0.0043 - val_loss: 0.0029\n",
      "Epoch 59/100\n",
      "92/94 [============================>.] - ETA: 0s - loss: 0.0041INFO:tensorflow:Assets written to: best_pv_readings_2.tf/assets\n"
     ]
    },
    {
     "name": "stderr",
     "output_type": "stream",
     "text": [
      "INFO:tensorflow:Assets written to: best_pv_readings_2.tf/assets\n"
     ]
    },
    {
     "name": "stdout",
     "output_type": "stream",
     "text": [
      "94/94 [==============================] - 1s 9ms/step - loss: 0.0040 - val_loss: 0.0026\n",
      "Epoch 60/100\n",
      "76/94 [=======================>......] - ETA: 0s - loss: 0.0044 INFO:tensorflow:Assets written to: best_pv_readings_2.tf/assets\n"
     ]
    },
    {
     "name": "stderr",
     "output_type": "stream",
     "text": [
      "INFO:tensorflow:Assets written to: best_pv_readings_2.tf/assets\n"
     ]
    },
    {
     "name": "stdout",
     "output_type": "stream",
     "text": [
      "94/94 [==============================] - 1s 7ms/step - loss: 0.0038 - val_loss: 0.0024\n",
      "Epoch 61/100\n",
      "79/94 [========================>.....] - ETA: 0s - loss: 0.0022INFO:tensorflow:Assets written to: best_pv_readings_2.tf/assets\n"
     ]
    },
    {
     "name": "stderr",
     "output_type": "stream",
     "text": [
      "INFO:tensorflow:Assets written to: best_pv_readings_2.tf/assets\n"
     ]
    },
    {
     "name": "stdout",
     "output_type": "stream",
     "text": [
      "94/94 [==============================] - 1s 8ms/step - loss: 0.0036 - val_loss: 0.0022\n",
      "Epoch 62/100\n",
      "81/94 [========================>.....] - ETA: 0s - loss: 0.0038INFO:tensorflow:Assets written to: best_pv_readings_2.tf/assets\n"
     ]
    },
    {
     "name": "stderr",
     "output_type": "stream",
     "text": [
      "INFO:tensorflow:Assets written to: best_pv_readings_2.tf/assets\n"
     ]
    },
    {
     "name": "stdout",
     "output_type": "stream",
     "text": [
      "94/94 [==============================] - 1s 7ms/step - loss: 0.0035 - val_loss: 0.0020\n",
      "Epoch 63/100\n",
      "82/94 [=========================>....] - ETA: 0s - loss: 0.0036INFO:tensorflow:Assets written to: best_pv_readings_2.tf/assets\n"
     ]
    },
    {
     "name": "stderr",
     "output_type": "stream",
     "text": [
      "INFO:tensorflow:Assets written to: best_pv_readings_2.tf/assets\n"
     ]
    },
    {
     "name": "stdout",
     "output_type": "stream",
     "text": [
      "94/94 [==============================] - 1s 8ms/step - loss: 0.0033 - val_loss: 0.0019\n",
      "Epoch 64/100\n",
      "85/94 [==========================>...] - ETA: 0s - loss: 0.0035INFO:tensorflow:Assets written to: best_pv_readings_2.tf/assets\n"
     ]
    },
    {
     "name": "stderr",
     "output_type": "stream",
     "text": [
      "INFO:tensorflow:Assets written to: best_pv_readings_2.tf/assets\n"
     ]
    },
    {
     "name": "stdout",
     "output_type": "stream",
     "text": [
      "94/94 [==============================] - 1s 8ms/step - loss: 0.0032 - val_loss: 0.0017\n",
      "Epoch 65/100\n",
      "92/94 [============================>.] - ETA: 0s - loss: 0.0031INFO:tensorflow:Assets written to: best_pv_readings_2.tf/assets\n"
     ]
    },
    {
     "name": "stderr",
     "output_type": "stream",
     "text": [
      "INFO:tensorflow:Assets written to: best_pv_readings_2.tf/assets\n"
     ]
    },
    {
     "name": "stdout",
     "output_type": "stream",
     "text": [
      "94/94 [==============================] - 1s 9ms/step - loss: 0.0031 - val_loss: 0.0016\n",
      "Epoch 66/100\n",
      "76/94 [=======================>......] - ETA: 0s - loss: 0.0035INFO:tensorflow:Assets written to: best_pv_readings_2.tf/assets\n"
     ]
    },
    {
     "name": "stderr",
     "output_type": "stream",
     "text": [
      "INFO:tensorflow:Assets written to: best_pv_readings_2.tf/assets\n"
     ]
    },
    {
     "name": "stdout",
     "output_type": "stream",
     "text": [
      "94/94 [==============================] - 1s 6ms/step - loss: 0.0030 - val_loss: 0.0015\n",
      "Epoch 67/100\n",
      "88/94 [===========================>..] - ETA: 0s - loss: 0.0022 INFO:tensorflow:Assets written to: best_pv_readings_2.tf/assets\n"
     ]
    },
    {
     "name": "stderr",
     "output_type": "stream",
     "text": [
      "INFO:tensorflow:Assets written to: best_pv_readings_2.tf/assets\n"
     ]
    },
    {
     "name": "stdout",
     "output_type": "stream",
     "text": [
      "94/94 [==============================] - 1s 7ms/step - loss: 0.0029 - val_loss: 0.0014\n",
      "Epoch 68/100\n",
      "79/94 [========================>.....] - ETA: 0s - loss: 0.0032INFO:tensorflow:Assets written to: best_pv_readings_2.tf/assets\n"
     ]
    },
    {
     "name": "stderr",
     "output_type": "stream",
     "text": [
      "INFO:tensorflow:Assets written to: best_pv_readings_2.tf/assets\n"
     ]
    },
    {
     "name": "stdout",
     "output_type": "stream",
     "text": [
      "94/94 [==============================] - 1s 7ms/step - loss: 0.0028 - val_loss: 0.0014\n",
      "Epoch 69/100\n",
      "73/94 [======================>.......] - ETA: 0s - loss: 0.0031  INFO:tensorflow:Assets written to: best_pv_readings_2.tf/assets\n"
     ]
    },
    {
     "name": "stderr",
     "output_type": "stream",
     "text": [
      "INFO:tensorflow:Assets written to: best_pv_readings_2.tf/assets\n"
     ]
    },
    {
     "name": "stdout",
     "output_type": "stream",
     "text": [
      "94/94 [==============================] - 1s 7ms/step - loss: 0.0027 - val_loss: 0.0013\n",
      "Epoch 70/100\n",
      "84/94 [=========================>....] - ETA: 0s - loss: 0.0029  INFO:tensorflow:Assets written to: best_pv_readings_2.tf/assets\n"
     ]
    },
    {
     "name": "stderr",
     "output_type": "stream",
     "text": [
      "INFO:tensorflow:Assets written to: best_pv_readings_2.tf/assets\n"
     ]
    },
    {
     "name": "stdout",
     "output_type": "stream",
     "text": [
      "94/94 [==============================] - 1s 7ms/step - loss: 0.0027 - val_loss: 0.0012\n",
      "Epoch 71/100\n",
      "85/94 [==========================>...] - ETA: 0s - loss: 0.0019   INFO:tensorflow:Assets written to: best_pv_readings_2.tf/assets\n"
     ]
    },
    {
     "name": "stderr",
     "output_type": "stream",
     "text": [
      "INFO:tensorflow:Assets written to: best_pv_readings_2.tf/assets\n"
     ]
    },
    {
     "name": "stdout",
     "output_type": "stream",
     "text": [
      "94/94 [==============================] - 1s 6ms/step - loss: 0.0026 - val_loss: 0.0012\n",
      "Epoch 72/100\n",
      "88/94 [===========================>..] - ETA: 0s - loss: 0.0026INFO:tensorflow:Assets written to: best_pv_readings_2.tf/assets\n"
     ]
    },
    {
     "name": "stderr",
     "output_type": "stream",
     "text": [
      "INFO:tensorflow:Assets written to: best_pv_readings_2.tf/assets\n"
     ]
    },
    {
     "name": "stdout",
     "output_type": "stream",
     "text": [
      "94/94 [==============================] - 1s 7ms/step - loss: 0.0025 - val_loss: 0.0011\n",
      "Epoch 73/100\n",
      "78/94 [=======================>......] - ETA: 0s - loss: 0.0019 INFO:tensorflow:Assets written to: best_pv_readings_2.tf/assets\n"
     ]
    },
    {
     "name": "stderr",
     "output_type": "stream",
     "text": [
      "INFO:tensorflow:Assets written to: best_pv_readings_2.tf/assets\n"
     ]
    },
    {
     "name": "stdout",
     "output_type": "stream",
     "text": [
      "94/94 [==============================] - 1s 6ms/step - loss: 0.0025 - val_loss: 9.7933e-04\n",
      "Epoch 74/100\n",
      "77/94 [=======================>......] - ETA: 0s - loss: 0.0018  INFO:tensorflow:Assets written to: best_pv_readings_2.tf/assets\n"
     ]
    },
    {
     "name": "stderr",
     "output_type": "stream",
     "text": [
      "INFO:tensorflow:Assets written to: best_pv_readings_2.tf/assets\n"
     ]
    },
    {
     "name": "stdout",
     "output_type": "stream",
     "text": [
      "94/94 [==============================] - 1s 7ms/step - loss: 0.0023 - val_loss: 8.7703e-04\n",
      "Epoch 75/100\n",
      "78/94 [=======================>......] - ETA: 0s - loss: 0.0026  INFO:tensorflow:Assets written to: best_pv_readings_2.tf/assets\n"
     ]
    },
    {
     "name": "stderr",
     "output_type": "stream",
     "text": [
      "INFO:tensorflow:Assets written to: best_pv_readings_2.tf/assets\n"
     ]
    },
    {
     "name": "stdout",
     "output_type": "stream",
     "text": [
      "94/94 [==============================] - 1s 7ms/step - loss: 0.0022 - val_loss: 8.1302e-04\n",
      "Epoch 76/100\n",
      "76/94 [=======================>......] - ETA: 0s - loss: 0.0025  INFO:tensorflow:Assets written to: best_pv_readings_2.tf/assets\n"
     ]
    },
    {
     "name": "stderr",
     "output_type": "stream",
     "text": [
      "INFO:tensorflow:Assets written to: best_pv_readings_2.tf/assets\n"
     ]
    },
    {
     "name": "stdout",
     "output_type": "stream",
     "text": [
      "94/94 [==============================] - 1s 6ms/step - loss: 0.0022 - val_loss: 7.6023e-04\n",
      "Epoch 77/100\n",
      "77/94 [=======================>......] - ETA: 0s - loss: 0.0025INFO:tensorflow:Assets written to: best_pv_readings_2.tf/assets\n"
     ]
    },
    {
     "name": "stderr",
     "output_type": "stream",
     "text": [
      "INFO:tensorflow:Assets written to: best_pv_readings_2.tf/assets\n"
     ]
    },
    {
     "name": "stdout",
     "output_type": "stream",
     "text": [
      "94/94 [==============================] - 1s 7ms/step - loss: 0.0021 - val_loss: 7.1768e-04\n",
      "Epoch 78/100\n",
      "79/94 [========================>.....] - ETA: 0s - loss: 0.0023 INFO:tensorflow:Assets written to: best_pv_readings_2.tf/assets\n"
     ]
    },
    {
     "name": "stderr",
     "output_type": "stream",
     "text": [
      "INFO:tensorflow:Assets written to: best_pv_readings_2.tf/assets\n"
     ]
    },
    {
     "name": "stdout",
     "output_type": "stream",
     "text": [
      "94/94 [==============================] - 1s 6ms/step - loss: 0.0021 - val_loss: 6.7583e-04\n",
      "Epoch 79/100\n",
      "77/94 [=======================>......] - ETA: 0s - loss: 0.0015  INFO:tensorflow:Assets written to: best_pv_readings_2.tf/assets\n"
     ]
    },
    {
     "name": "stderr",
     "output_type": "stream",
     "text": [
      "INFO:tensorflow:Assets written to: best_pv_readings_2.tf/assets\n"
     ]
    },
    {
     "name": "stdout",
     "output_type": "stream",
     "text": [
      "94/94 [==============================] - 1s 6ms/step - loss: 0.0020 - val_loss: 6.3586e-04\n",
      "Epoch 80/100\n",
      "77/94 [=======================>......] - ETA: 0s - loss: 6.4943e-04INFO:tensorflow:Assets written to: best_pv_readings_2.tf/assets\n"
     ]
    },
    {
     "name": "stderr",
     "output_type": "stream",
     "text": [
      "INFO:tensorflow:Assets written to: best_pv_readings_2.tf/assets\n"
     ]
    },
    {
     "name": "stdout",
     "output_type": "stream",
     "text": [
      "94/94 [==============================] - 1s 6ms/step - loss: 0.0020 - val_loss: 6.0158e-04\n",
      "Epoch 81/100\n",
      "80/94 [========================>.....] - ETA: 0s - loss: 0.0022INFO:tensorflow:Assets written to: best_pv_readings_2.tf/assets\n"
     ]
    },
    {
     "name": "stderr",
     "output_type": "stream",
     "text": [
      "INFO:tensorflow:Assets written to: best_pv_readings_2.tf/assets\n"
     ]
    },
    {
     "name": "stdout",
     "output_type": "stream",
     "text": [
      "94/94 [==============================] - 1s 7ms/step - loss: 0.0019 - val_loss: 5.4794e-04\n",
      "Epoch 82/100\n",
      "83/94 [=========================>....] - ETA: 0s - loss: 0.0020INFO:tensorflow:Assets written to: best_pv_readings_2.tf/assets\n"
     ]
    },
    {
     "name": "stderr",
     "output_type": "stream",
     "text": [
      "INFO:tensorflow:Assets written to: best_pv_readings_2.tf/assets\n"
     ]
    },
    {
     "name": "stdout",
     "output_type": "stream",
     "text": [
      "94/94 [==============================] - 1s 7ms/step - loss: 0.0019 - val_loss: 5.1777e-04\n",
      "Epoch 83/100\n",
      "78/94 [=======================>......] - ETA: 0s - loss: 0.0013 INFO:tensorflow:Assets written to: best_pv_readings_2.tf/assets\n"
     ]
    },
    {
     "name": "stderr",
     "output_type": "stream",
     "text": [
      "INFO:tensorflow:Assets written to: best_pv_readings_2.tf/assets\n"
     ]
    },
    {
     "name": "stdout",
     "output_type": "stream",
     "text": [
      "94/94 [==============================] - 1s 6ms/step - loss: 0.0018 - val_loss: 4.9130e-04\n",
      "Epoch 84/100\n",
      "92/94 [============================>.] - ETA: 0s - loss: 0.0018INFO:tensorflow:Assets written to: best_pv_readings_2.tf/assets\n"
     ]
    },
    {
     "name": "stderr",
     "output_type": "stream",
     "text": [
      "INFO:tensorflow:Assets written to: best_pv_readings_2.tf/assets\n"
     ]
    },
    {
     "name": "stdout",
     "output_type": "stream",
     "text": [
      "94/94 [==============================] - 1s 7ms/step - loss: 0.0018 - val_loss: 4.5793e-04\n",
      "Epoch 85/100\n",
      "91/94 [============================>.] - ETA: 0s - loss: 0.0011  INFO:tensorflow:Assets written to: best_pv_readings_2.tf/assets\n"
     ]
    },
    {
     "name": "stderr",
     "output_type": "stream",
     "text": [
      "INFO:tensorflow:Assets written to: best_pv_readings_2.tf/assets\n"
     ]
    },
    {
     "name": "stdout",
     "output_type": "stream",
     "text": [
      "94/94 [==============================] - 1s 7ms/step - loss: 0.0017 - val_loss: 4.2984e-04\n",
      "Epoch 86/100\n",
      "92/94 [============================>.] - ETA: 0s - loss: 0.0017 INFO:tensorflow:Assets written to: best_pv_readings_2.tf/assets\n"
     ]
    },
    {
     "name": "stderr",
     "output_type": "stream",
     "text": [
      "INFO:tensorflow:Assets written to: best_pv_readings_2.tf/assets\n"
     ]
    },
    {
     "name": "stdout",
     "output_type": "stream",
     "text": [
      "94/94 [==============================] - 1s 10ms/step - loss: 0.0017 - val_loss: 3.9952e-04\n",
      "Epoch 87/100\n",
      "81/94 [========================>.....] - ETA: 0s - loss: 0.0019INFO:tensorflow:Assets written to: best_pv_readings_2.tf/assets\n"
     ]
    },
    {
     "name": "stderr",
     "output_type": "stream",
     "text": [
      "INFO:tensorflow:Assets written to: best_pv_readings_2.tf/assets\n"
     ]
    },
    {
     "name": "stdout",
     "output_type": "stream",
     "text": [
      "94/94 [==============================] - 1s 7ms/step - loss: 0.0017 - val_loss: 3.7441e-04\n",
      "Epoch 88/100\n",
      "79/94 [========================>.....] - ETA: 0s - loss: 0.0019  INFO:tensorflow:Assets written to: best_pv_readings_2.tf/assets\n"
     ]
    },
    {
     "name": "stderr",
     "output_type": "stream",
     "text": [
      "INFO:tensorflow:Assets written to: best_pv_readings_2.tf/assets\n"
     ]
    },
    {
     "name": "stdout",
     "output_type": "stream",
     "text": [
      "94/94 [==============================] - 1s 7ms/step - loss: 0.0016 - val_loss: 3.4736e-04\n",
      "Epoch 89/100\n",
      "86/94 [==========================>...] - ETA: 0s - loss: 0.0017INFO:tensorflow:Assets written to: best_pv_readings_2.tf/assets\n"
     ]
    },
    {
     "name": "stderr",
     "output_type": "stream",
     "text": [
      "INFO:tensorflow:Assets written to: best_pv_readings_2.tf/assets\n"
     ]
    },
    {
     "name": "stdout",
     "output_type": "stream",
     "text": [
      "94/94 [==============================] - 1s 7ms/step - loss: 0.0016 - val_loss: 3.2569e-04\n",
      "Epoch 90/100\n",
      "90/94 [===========================>..] - ETA: 0s - loss: 0.0016 INFO:tensorflow:Assets written to: best_pv_readings_2.tf/assets\n"
     ]
    },
    {
     "name": "stderr",
     "output_type": "stream",
     "text": [
      "INFO:tensorflow:Assets written to: best_pv_readings_2.tf/assets\n"
     ]
    },
    {
     "name": "stdout",
     "output_type": "stream",
     "text": [
      "94/94 [==============================] - 1s 7ms/step - loss: 0.0016 - val_loss: 3.0257e-04\n",
      "Epoch 91/100\n",
      "76/94 [=======================>......] - ETA: 0s - loss: 0.0018INFO:tensorflow:Assets written to: best_pv_readings_2.tf/assets\n"
     ]
    },
    {
     "name": "stderr",
     "output_type": "stream",
     "text": [
      "INFO:tensorflow:Assets written to: best_pv_readings_2.tf/assets\n"
     ]
    },
    {
     "name": "stdout",
     "output_type": "stream",
     "text": [
      "94/94 [==============================] - 1s 7ms/step - loss: 0.0015 - val_loss: 2.7782e-04\n",
      "Epoch 92/100\n",
      "85/94 [==========================>...] - ETA: 0s - loss: 0.0016 INFO:tensorflow:Assets written to: best_pv_readings_2.tf/assets\n"
     ]
    },
    {
     "name": "stderr",
     "output_type": "stream",
     "text": [
      "INFO:tensorflow:Assets written to: best_pv_readings_2.tf/assets\n"
     ]
    },
    {
     "name": "stdout",
     "output_type": "stream",
     "text": [
      "94/94 [==============================] - 1s 7ms/step - loss: 0.0015 - val_loss: 2.5674e-04\n",
      "Epoch 93/100\n",
      "76/94 [=======================>......] - ETA: 0s - loss: 0.0015   INFO:tensorflow:Assets written to: best_pv_readings_2.tf/assets\n"
     ]
    },
    {
     "name": "stderr",
     "output_type": "stream",
     "text": [
      "INFO:tensorflow:Assets written to: best_pv_readings_2.tf/assets\n"
     ]
    },
    {
     "name": "stdout",
     "output_type": "stream",
     "text": [
      "94/94 [==============================] - 1s 6ms/step - loss: 0.0015 - val_loss: 2.3904e-04\n",
      "Epoch 94/100\n",
      "74/94 [======================>.......] - ETA: 0s - loss: 1.1832e-04INFO:tensorflow:Assets written to: best_pv_readings_2.tf/assets\n"
     ]
    },
    {
     "name": "stderr",
     "output_type": "stream",
     "text": [
      "INFO:tensorflow:Assets written to: best_pv_readings_2.tf/assets\n"
     ]
    },
    {
     "name": "stdout",
     "output_type": "stream",
     "text": [
      "94/94 [==============================] - 1s 6ms/step - loss: 0.0014 - val_loss: 2.2636e-04\n",
      "Epoch 95/100\n",
      "79/94 [========================>.....] - ETA: 0s - loss: 0.0017INFO:tensorflow:Assets written to: best_pv_readings_2.tf/assets\n"
     ]
    },
    {
     "name": "stderr",
     "output_type": "stream",
     "text": [
      "INFO:tensorflow:Assets written to: best_pv_readings_2.tf/assets\n"
     ]
    },
    {
     "name": "stdout",
     "output_type": "stream",
     "text": [
      "94/94 [==============================] - 1s 7ms/step - loss: 0.0014 - val_loss: 2.0315e-04\n",
      "Epoch 96/100\n",
      "92/94 [============================>.] - ETA: 0s - loss: 0.0014  INFO:tensorflow:Assets written to: best_pv_readings_2.tf/assets\n"
     ]
    },
    {
     "name": "stderr",
     "output_type": "stream",
     "text": [
      "INFO:tensorflow:Assets written to: best_pv_readings_2.tf/assets\n"
     ]
    },
    {
     "name": "stdout",
     "output_type": "stream",
     "text": [
      "94/94 [==============================] - 1s 7ms/step - loss: 0.0014 - val_loss: 1.8959e-04\n",
      "Epoch 97/100\n",
      "76/94 [=======================>......] - ETA: 0s - loss: 0.0017INFO:tensorflow:Assets written to: best_pv_readings_2.tf/assets\n"
     ]
    },
    {
     "name": "stderr",
     "output_type": "stream",
     "text": [
      "INFO:tensorflow:Assets written to: best_pv_readings_2.tf/assets\n"
     ]
    },
    {
     "name": "stdout",
     "output_type": "stream",
     "text": [
      "94/94 [==============================] - 1s 7ms/step - loss: 0.0014 - val_loss: 1.7685e-04\n",
      "Epoch 98/100\n",
      "73/94 [======================>.......] - ETA: 0s - loss: 7.9326e-04INFO:tensorflow:Assets written to: best_pv_readings_2.tf/assets\n"
     ]
    },
    {
     "name": "stderr",
     "output_type": "stream",
     "text": [
      "INFO:tensorflow:Assets written to: best_pv_readings_2.tf/assets\n"
     ]
    },
    {
     "name": "stdout",
     "output_type": "stream",
     "text": [
      "94/94 [==============================] - 1s 6ms/step - loss: 0.0013 - val_loss: 1.6885e-04\n",
      "Epoch 99/100\n",
      "85/94 [==========================>...] - ETA: 0s - loss: 0.0012    INFO:tensorflow:Assets written to: best_pv_readings_2.tf/assets\n"
     ]
    },
    {
     "name": "stderr",
     "output_type": "stream",
     "text": [
      "INFO:tensorflow:Assets written to: best_pv_readings_2.tf/assets\n"
     ]
    },
    {
     "name": "stdout",
     "output_type": "stream",
     "text": [
      "94/94 [==============================] - 1s 6ms/step - loss: 0.0013 - val_loss: 1.5728e-04\n",
      "Epoch 100/100\n",
      "73/94 [======================>.......] - ETA: 0s - loss: 0.0014    INFO:tensorflow:Assets written to: best_pv_readings_2.tf/assets\n"
     ]
    },
    {
     "name": "stderr",
     "output_type": "stream",
     "text": [
      "INFO:tensorflow:Assets written to: best_pv_readings_2.tf/assets\n"
     ]
    },
    {
     "name": "stdout",
     "output_type": "stream",
     "text": [
      "\b\b\b\b\b\b\b\b\b\b\b\b\b\b\b\b\b\b\b\b\b\b\b\b\b\b\b\b\b\b\b\b\b\b\b\b\b\b\b\b\b\b\b\b\b\b\b\b\b\b\b\b\b\b\b\b\b\b\b\b\b\b\b\r",
      "94/94 [==============================] - 1s 6ms/step - loss: 0.0013 - val_loss: 1.4746e-04\n"
     ]
    },
    {
     "data": {
      "text/plain": [
       "<keras.src.callbacks.History at 0x7f178c297c70>"
      ]
     },
     "execution_count": 55,
     "metadata": {},
     "output_type": "execute_result"
    }
   ],
   "source": [
    "from keras.models import load_model\n",
    "model = load_model('best_pv_readings_2.tf')\n",
    "model.compile(optimizer=Adam(learning_rate=.0001), loss='mse')\n",
    "model.fit(X_train, y_train, epochs=100, verbose=1, validation_data=(X_val, y_val), callbacks=[checkpoint])"
   ]
  },
  {
   "cell_type": "markdown",
   "id": "ed007e67-d08f-4e00-b97e-bd3098afdaaf",
   "metadata": {},
   "source": [
    "# Predictions"
   ]
  },
  {
   "cell_type": "code",
   "execution_count": 56,
   "id": "ffcd6dec",
   "metadata": {},
   "outputs": [
    {
     "name": "stdout",
     "output_type": "stream",
     "text": [
      "12/12 [==============================] - 0s 3ms/step\n",
      "12/12 [==============================] - 0s 3ms/step - loss: 0.2693\n",
      "0.269343763589859\n"
     ]
    },
    {
     "data": {
      "image/png": "[encoded data removed]",
      "text/plain": [
       "<Figure size 500x200 with 2 Axes>"
      ]
     },
     "metadata": {},
     "output_type": "display_data"
    }
   ],
   "source": [
    "model = load_model('best_pv_readings_2.tf')\n",
    "y_pred = model.predict(X_test).reshape(y_test.shape[0])[::5]\n",
    "print(model.evaluate(X_test, y_test))\n",
    "fig, axes = plt.subplots(nrows=1, ncols=2, figsize=(5, 2))\n",
    "\n",
    "sns.lineplot(x=np.arange(0,y_pred.shape[0]), y=y_test[::5], color='red', ax=axes[0]);\n",
    "sns.lineplot(x=np.arange(0,y_pred.shape[0]), y=y_pred, color='blue', ax=axes[1]);\n",
    "\n",
    "axes[0].set_ylabel('Actual Current (mA)', fontsize=9)\n",
    "axes[0].set_xlabel('Time', fontsize=9)\n",
    "axes[1].set_ylabel('Predicted Current (mA)', fontsize=9)\n",
    "axes[1].set_xlabel('Time', fontsize=9)\n",
    "axes[0].tick_params(axis='both', which='major', labelsize=9)\n",
    "axes[1].tick_params(axis='both', which='major', labelsize=9)\n",
    "plt.tight_layout();"
   ]
  }
 ],
 "metadata": {
  "accelerator": "GPU",
  "colab": {
   "provenance": []
  },
  "kernelspec": {
   "display_name": "Python 3 (ipykernel)",
   "language": "python",
   "name": "python3"
  },
  "language_info": {
   "codemirror_mode": {
    "name": "ipython",
    "version": 3
   },
   "file_extension": ".py",
   "mimetype": "text/x-python",
   "name": "python",
   "nbconvert_exporter": "python",
   "pygments_lexer": "ipython3",
   "version": "3.10.6"
  }
 },
 "nbformat": 4,
 "nbformat_minor": 5
}
